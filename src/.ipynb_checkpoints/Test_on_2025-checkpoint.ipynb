{
 "cells": [
  {
   "cell_type": "code",
   "execution_count": 1,
   "id": "1ae99b7c-dfad-49ea-aa04-ab7413f8ddf4",
   "metadata": {},
   "outputs": [],
   "source": [
    "import pandas as pd\n",
    "import numpy as np\n",
    "import torch\n",
    "import torch.nn as nn"
   ]
  },
  {
   "cell_type": "code",
   "execution_count": 2,
   "id": "44aec863-b2d3-4bbb-b08a-0193e9c46235",
   "metadata": {},
   "outputs": [
    {
     "data": {
      "text/html": [
       "<div>\n",
       "<style scoped>\n",
       "    .dataframe tbody tr th:only-of-type {\n",
       "        vertical-align: middle;\n",
       "    }\n",
       "\n",
       "    .dataframe tbody tr th {\n",
       "        vertical-align: top;\n",
       "    }\n",
       "\n",
       "    .dataframe thead th {\n",
       "        text-align: right;\n",
       "    }\n",
       "</style>\n",
       "<table border=\"1\" class=\"dataframe\">\n",
       "  <thead>\n",
       "    <tr style=\"text-align: right;\">\n",
       "      <th></th>\n",
       "      <th>query</th>\n",
       "      <th>docno</th>\n",
       "      <th>relevant</th>\n",
       "      <th>text</th>\n",
       "    </tr>\n",
       "  </thead>\n",
       "  <tbody>\n",
       "    <tr>\n",
       "      <th>0</th>\n",
       "      <td>1</td>\n",
       "      <td>ct3cbz_344_0</td>\n",
       "      <td>False</td>\n",
       "      <td>Never cry.</td>\n",
       "    </tr>\n",
       "    <tr>\n",
       "      <th>1</th>\n",
       "      <td>1</td>\n",
       "      <td>u9cNWw_1093_0</td>\n",
       "      <td>False</td>\n",
       "      <td>It never made me happy - it just made me forge...</td>\n",
       "    </tr>\n",
       "    <tr>\n",
       "      <th>2</th>\n",
       "      <td>1</td>\n",
       "      <td>NiqXbk_143_0</td>\n",
       "      <td>True</td>\n",
       "      <td>i am so sad all of a sudden</td>\n",
       "    </tr>\n",
       "    <tr>\n",
       "      <th>3</th>\n",
       "      <td>1</td>\n",
       "      <td>CXu8Yf_453_4</td>\n",
       "      <td>True</td>\n",
       "      <td>It makes me really sad.</td>\n",
       "    </tr>\n",
       "    <tr>\n",
       "      <th>4</th>\n",
       "      <td>1</td>\n",
       "      <td>5j64PU_2964_0</td>\n",
       "      <td>True</td>\n",
       "      <td>I'm so sad now.</td>\n",
       "    </tr>\n",
       "  </tbody>\n",
       "</table>\n",
       "</div>"
      ],
      "text/plain": [
       "   query          docno  relevant  \\\n",
       "0      1   ct3cbz_344_0     False   \n",
       "1      1  u9cNWw_1093_0     False   \n",
       "2      1   NiqXbk_143_0      True   \n",
       "3      1   CXu8Yf_453_4      True   \n",
       "4      1  5j64PU_2964_0      True   \n",
       "\n",
       "                                                text  \n",
       "0                                         Never cry.  \n",
       "1  It never made me happy - it just made me forge...  \n",
       "2                        i am so sad all of a sudden  \n",
       "3                            It makes me really sad.  \n",
       "4                                    I'm so sad now.  "
      ]
     },
     "execution_count": 2,
     "metadata": {},
     "output_type": "execute_result"
    }
   ],
   "source": [
    "df = pd.read_csv('2025set.csv')\n",
    "df.head()"
   ]
  },
  {
   "cell_type": "code",
   "execution_count": 3,
   "id": "743ed450-2eed-48a2-a343-1fe474436ade",
   "metadata": {},
   "outputs": [],
   "source": [
    "df[\"relevant\"] = (\n",
    "    df[\"relevant\"]\n",
    "    .astype(str)              \n",
    "    .str.lower()             \n",
    "    .map({\"true\": True, \"false\": False})   \n",
    ")"
   ]
  },
  {
   "cell_type": "code",
   "execution_count": 4,
   "id": "31675c21-f644-4d17-9bc9-4d0ad4929226",
   "metadata": {},
   "outputs": [
    {
     "data": {
      "text/html": [
       "<div>\n",
       "<style scoped>\n",
       "    .dataframe tbody tr th:only-of-type {\n",
       "        vertical-align: middle;\n",
       "    }\n",
       "\n",
       "    .dataframe tbody tr th {\n",
       "        vertical-align: top;\n",
       "    }\n",
       "\n",
       "    .dataframe thead th {\n",
       "        text-align: right;\n",
       "    }\n",
       "</style>\n",
       "<table border=\"1\" class=\"dataframe\">\n",
       "  <thead>\n",
       "    <tr style=\"text-align: right;\">\n",
       "      <th></th>\n",
       "      <th>query</th>\n",
       "      <th>docno</th>\n",
       "      <th>relevant</th>\n",
       "      <th>text</th>\n",
       "    </tr>\n",
       "  </thead>\n",
       "  <tbody>\n",
       "    <tr>\n",
       "      <th>0</th>\n",
       "      <td>1</td>\n",
       "      <td>ct3cbz_344_0</td>\n",
       "      <td>False</td>\n",
       "      <td>Never cry.</td>\n",
       "    </tr>\n",
       "    <tr>\n",
       "      <th>1</th>\n",
       "      <td>1</td>\n",
       "      <td>u9cNWw_1093_0</td>\n",
       "      <td>False</td>\n",
       "      <td>It never made me happy - it just made me forge...</td>\n",
       "    </tr>\n",
       "    <tr>\n",
       "      <th>2</th>\n",
       "      <td>1</td>\n",
       "      <td>NiqXbk_143_0</td>\n",
       "      <td>True</td>\n",
       "      <td>i am so sad all of a sudden</td>\n",
       "    </tr>\n",
       "    <tr>\n",
       "      <th>3</th>\n",
       "      <td>1</td>\n",
       "      <td>CXu8Yf_453_4</td>\n",
       "      <td>True</td>\n",
       "      <td>It makes me really sad.</td>\n",
       "    </tr>\n",
       "    <tr>\n",
       "      <th>4</th>\n",
       "      <td>1</td>\n",
       "      <td>5j64PU_2964_0</td>\n",
       "      <td>True</td>\n",
       "      <td>I'm so sad now.</td>\n",
       "    </tr>\n",
       "  </tbody>\n",
       "</table>\n",
       "</div>"
      ],
      "text/plain": [
       "   query          docno  relevant  \\\n",
       "0      1   ct3cbz_344_0     False   \n",
       "1      1  u9cNWw_1093_0     False   \n",
       "2      1   NiqXbk_143_0      True   \n",
       "3      1   CXu8Yf_453_4      True   \n",
       "4      1  5j64PU_2964_0      True   \n",
       "\n",
       "                                                text  \n",
       "0                                         Never cry.  \n",
       "1  It never made me happy - it just made me forge...  \n",
       "2                        i am so sad all of a sudden  \n",
       "3                            It makes me really sad.  \n",
       "4                                    I'm so sad now.  "
      ]
     },
     "execution_count": 4,
     "metadata": {},
     "output_type": "execute_result"
    }
   ],
   "source": [
    "df.head()"
   ]
  },
  {
   "cell_type": "code",
   "execution_count": 5,
   "id": "0c6c6d6c-8a51-48b7-8045-8cce0cb1d98d",
   "metadata": {},
   "outputs": [
    {
     "data": {
      "text/html": [
       "<div>\n",
       "<style scoped>\n",
       "    .dataframe tbody tr th:only-of-type {\n",
       "        vertical-align: middle;\n",
       "    }\n",
       "\n",
       "    .dataframe tbody tr th {\n",
       "        vertical-align: top;\n",
       "    }\n",
       "\n",
       "    .dataframe thead th {\n",
       "        text-align: right;\n",
       "    }\n",
       "</style>\n",
       "<table border=\"1\" class=\"dataframe\">\n",
       "  <thead>\n",
       "    <tr style=\"text-align: right;\">\n",
       "      <th></th>\n",
       "      <th>query</th>\n",
       "      <th>docno</th>\n",
       "      <th>relevant</th>\n",
       "      <th>text</th>\n",
       "    </tr>\n",
       "  </thead>\n",
       "  <tbody>\n",
       "    <tr>\n",
       "      <th>0</th>\n",
       "      <td>1</td>\n",
       "      <td>ct3cbz_344_0</td>\n",
       "      <td>False</td>\n",
       "      <td>Never cry.</td>\n",
       "    </tr>\n",
       "    <tr>\n",
       "      <th>1</th>\n",
       "      <td>1</td>\n",
       "      <td>u9cNWw_1093_0</td>\n",
       "      <td>False</td>\n",
       "      <td>It never made me happy - it just made me forge...</td>\n",
       "    </tr>\n",
       "    <tr>\n",
       "      <th>2</th>\n",
       "      <td>1</td>\n",
       "      <td>NiqXbk_143_0</td>\n",
       "      <td>True</td>\n",
       "      <td>i am so sad all of a sudden</td>\n",
       "    </tr>\n",
       "    <tr>\n",
       "      <th>3</th>\n",
       "      <td>1</td>\n",
       "      <td>CXu8Yf_453_4</td>\n",
       "      <td>True</td>\n",
       "      <td>It makes me really sad.</td>\n",
       "    </tr>\n",
       "    <tr>\n",
       "      <th>4</th>\n",
       "      <td>1</td>\n",
       "      <td>5j64PU_2964_0</td>\n",
       "      <td>True</td>\n",
       "      <td>I'm so sad now.</td>\n",
       "    </tr>\n",
       "  </tbody>\n",
       "</table>\n",
       "</div>"
      ],
      "text/plain": [
       "   query          docno  relevant  \\\n",
       "0      1   ct3cbz_344_0     False   \n",
       "1      1  u9cNWw_1093_0     False   \n",
       "2      1   NiqXbk_143_0      True   \n",
       "3      1   CXu8Yf_453_4      True   \n",
       "4      1  5j64PU_2964_0      True   \n",
       "\n",
       "                                                text  \n",
       "0                                         Never cry.  \n",
       "1  It never made me happy - it just made me forge...  \n",
       "2                        i am so sad all of a sudden  \n",
       "3                            It makes me really sad.  \n",
       "4                                    I'm so sad now.  "
      ]
     },
     "execution_count": 5,
     "metadata": {},
     "output_type": "execute_result"
    }
   ],
   "source": [
    "for row in df['relevant']:\n",
    "    if row is True:\n",
    "        row = 1\n",
    "    else:\n",
    "        row = 0\n",
    "df.head()"
   ]
  },
  {
   "cell_type": "code",
   "execution_count": 6,
   "id": "4bc4851b-0155-43ac-990f-ac4fd73b75a5",
   "metadata": {},
   "outputs": [
    {
     "data": {
      "text/html": [
       "<div>\n",
       "<style scoped>\n",
       "    .dataframe tbody tr th:only-of-type {\n",
       "        vertical-align: middle;\n",
       "    }\n",
       "\n",
       "    .dataframe tbody tr th {\n",
       "        vertical-align: top;\n",
       "    }\n",
       "\n",
       "    .dataframe thead th {\n",
       "        text-align: right;\n",
       "    }\n",
       "</style>\n",
       "<table border=\"1\" class=\"dataframe\">\n",
       "  <thead>\n",
       "    <tr style=\"text-align: right;\">\n",
       "      <th></th>\n",
       "      <th>query</th>\n",
       "      <th>docno</th>\n",
       "      <th>relevant</th>\n",
       "      <th>text</th>\n",
       "    </tr>\n",
       "  </thead>\n",
       "  <tbody>\n",
       "    <tr>\n",
       "      <th>0</th>\n",
       "      <td>1</td>\n",
       "      <td>ct3cbz_344_0</td>\n",
       "      <td>0</td>\n",
       "      <td>Never cry.</td>\n",
       "    </tr>\n",
       "    <tr>\n",
       "      <th>1</th>\n",
       "      <td>1</td>\n",
       "      <td>u9cNWw_1093_0</td>\n",
       "      <td>0</td>\n",
       "      <td>It never made me happy - it just made me forge...</td>\n",
       "    </tr>\n",
       "    <tr>\n",
       "      <th>2</th>\n",
       "      <td>1</td>\n",
       "      <td>NiqXbk_143_0</td>\n",
       "      <td>1</td>\n",
       "      <td>i am so sad all of a sudden</td>\n",
       "    </tr>\n",
       "    <tr>\n",
       "      <th>3</th>\n",
       "      <td>1</td>\n",
       "      <td>CXu8Yf_453_4</td>\n",
       "      <td>1</td>\n",
       "      <td>It makes me really sad.</td>\n",
       "    </tr>\n",
       "    <tr>\n",
       "      <th>4</th>\n",
       "      <td>1</td>\n",
       "      <td>5j64PU_2964_0</td>\n",
       "      <td>1</td>\n",
       "      <td>I'm so sad now.</td>\n",
       "    </tr>\n",
       "  </tbody>\n",
       "</table>\n",
       "</div>"
      ],
      "text/plain": [
       "   query          docno  relevant  \\\n",
       "0      1   ct3cbz_344_0         0   \n",
       "1      1  u9cNWw_1093_0         0   \n",
       "2      1   NiqXbk_143_0         1   \n",
       "3      1   CXu8Yf_453_4         1   \n",
       "4      1  5j64PU_2964_0         1   \n",
       "\n",
       "                                                text  \n",
       "0                                         Never cry.  \n",
       "1  It never made me happy - it just made me forge...  \n",
       "2                        i am so sad all of a sudden  \n",
       "3                            It makes me really sad.  \n",
       "4                                    I'm so sad now.  "
      ]
     },
     "execution_count": 6,
     "metadata": {},
     "output_type": "execute_result"
    }
   ],
   "source": [
    "df['relevant'] = df['relevant'].astype(bool).astype(int)\n",
    "df.head()"
   ]
  },
  {
   "cell_type": "code",
   "execution_count": 7,
   "id": "a6863923-5a58-4f20-bc18-cfd7fee495d8",
   "metadata": {},
   "outputs": [],
   "source": [
    "import contractions\n",
    "import re\n",
    "import spacy\n"
   ]
  },
  {
   "cell_type": "code",
   "execution_count": 8,
   "id": "5c06045b-ebc5-42e9-8392-fea294525f7a",
   "metadata": {},
   "outputs": [],
   "source": [
    "df = df.dropna(subset=[\"text\"])\n"
   ]
  },
  {
   "cell_type": "code",
   "execution_count": 9,
   "id": "d75019f3-095f-43a4-81a0-b0daf8a58d8f",
   "metadata": {},
   "outputs": [
    {
     "data": {
      "text/plain": [
       "11042"
      ]
     },
     "execution_count": 9,
     "metadata": {},
     "output_type": "execute_result"
    }
   ],
   "source": [
    "len(df)"
   ]
  },
  {
   "cell_type": "code",
   "execution_count": 10,
   "id": "61473b63-21ad-44e1-abe6-0057c93cadab",
   "metadata": {},
   "outputs": [],
   "source": [
    "def contract(text: str) -> str:\n",
    "    return contractions.fix(text)"
   ]
  },
  {
   "cell_type": "code",
   "execution_count": 11,
   "id": "0cb6a5c4-fc66-4b93-8165-55fc51a4ee89",
   "metadata": {},
   "outputs": [],
   "source": [
    "def remove_punct(s: str) -> str:\n",
    "    if pd.isna(s):\n",
    "        return \"\"\n",
    "    s = str(s).lower()\n",
    "    s = re.sub(r'(\\d+)\\.(\\d+)', r'\\1<dot>\\2', s)\n",
    "    s = re.sub(r'(\\d+)-(\\d+)', r'\\1 to \\2', s)\n",
    "    s = re.sub(r'[^a-z0-9\\s<dot>]', '', s)\n",
    "    s = s.replace(\"<dot>\", \".\")\n",
    "    s = re.sub(r'\\s+', ' ', s).strip()\n",
    "    return s"
   ]
  },
  {
   "cell_type": "code",
   "execution_count": 12,
   "id": "cb1bc7cf-c8a3-4746-8109-bf48df95d40c",
   "metadata": {},
   "outputs": [],
   "source": [
    "nlp = spacy.load(\"en_core_web_sm\")\n",
    "def lemmatize_spacy(text):\n",
    "    doc = nlp(text)\n",
    "    return \" \".join([token.lemma_ for token in doc])"
   ]
  },
  {
   "cell_type": "code",
   "execution_count": 13,
   "id": "fc539cf6-59b4-4e41-b853-d4fc62e2808f",
   "metadata": {},
   "outputs": [],
   "source": [
    "def tokenize(corpus):\n",
    "    corpus = str(corpus)\n",
    "    return corpus.split()"
   ]
  },
  {
   "cell_type": "code",
   "execution_count": 14,
   "id": "9645cd0f-1d44-46c0-a0af-ddf8aee124b5",
   "metadata": {},
   "outputs": [
    {
     "data": {
      "text/plain": [
       "['I', 'do', 'not', 'love', 'you']"
      ]
     },
     "execution_count": 14,
     "metadata": {},
     "output_type": "execute_result"
    }
   ],
   "source": [
    "def handling_text(corpus):\n",
    "    corpus = contract(corpus)\n",
    "    corpus = remove_punct(corpus)\n",
    "    corpus = lemmatize_spacy(corpus)\n",
    "    corpus = tokenize(corpus)\n",
    "    return corpus\n",
    "a = handling_text(\"i don't love you\")\n",
    "a"
   ]
  },
  {
   "cell_type": "code",
   "execution_count": 15,
   "id": "aa08dd9a-2679-41bd-bf42-b6b2ee8999e9",
   "metadata": {},
   "outputs": [],
   "source": [
    "from gensim.models import Word2Vec\n",
    "model = Word2Vec.load(\"word2vec_depression.model\")\n"
   ]
  },
  {
   "cell_type": "code",
   "execution_count": 16,
   "id": "12d1dc53-610c-4ecc-b031-b98adec43b16",
   "metadata": {},
   "outputs": [],
   "source": [
    "queries_tokens = [\n",
    "    [\"sadness\"],                             # 1\n",
    "    [\"pessimistic\"],                           # 2\n",
    "    [\"past\", \"failure\"],                     # 3\n",
    "    [\"loss\", \"of\", \"pleasure\"],              # 4\n",
    "    [\"guilty\", \"feeling\"],                   # 5\n",
    "    [\"punishment\", \"feeling\"],               # 6\n",
    "    [\"self\", \"dislike\"],                     # 7\n",
    "    [\"self\", \"critical\"],                # 8\n",
    "    [\"suicidal\", \"thought\", \"or\", \"wish\"],   # 9\n",
    "    [\"cry\"],                                 # 10\n",
    "    [\"agitated\"],                           # 11\n",
    "    [\"loss\", \"of\", \"interest\"],              # 12\n",
    "    [\"indecisiveness\"],                      # 13\n",
    "    [\"worthless\"],                       # 14\n",
    "    [\"loss\", \"of\", \"energy\"],                # 15\n",
    "    [\"change\", \"in\", \"sleeping\", \"pattern\"], # 16\n",
    "    [\"irritability\"],                        # 17\n",
    "    [\"change\", \"in\", \"appetite\"],            # 18\n",
    "    [\"concentration\", \"difficulty\"],         # 19\n",
    "    [\"tiredness\", \"or\", \"fatigue\"],          # 20\n",
    "    [\"loss\", \"of\", \"interest\", \"in\", \"sex\"]  # 21\n",
    "]"
   ]
  },
  {
   "cell_type": "code",
   "execution_count": 17,
   "id": "d0c51455-1def-473a-b90a-796b58fad2be",
   "metadata": {},
   "outputs": [],
   "source": [
    "PAD_IDX, UNK_IDX = 0, 1\n",
    "\n",
    "word2idx = {\"<PAD>\": PAD_IDX, \"<UNK>\": UNK_IDX}\n",
    "wv = model.wv\n",
    "for i, word in enumerate(wv.index_to_key, start=2):\n",
    "    word2idx[word] = i"
   ]
  },
  {
   "cell_type": "code",
   "execution_count": 18,
   "id": "3091f6b2-aad0-45fe-be50-3d722872beef",
   "metadata": {},
   "outputs": [
    {
     "name": "stdout",
     "output_type": "stream",
     "text": [
      "[[592], [1983], [201, 168], [514, 11, 328], [78, 211]]\n"
     ]
    }
   ],
   "source": [
    "PAD_IDX, UNK_IDX = 0, 1\n",
    "\n",
    "queries_sequence = []\n",
    "for s in queries_tokens:\n",
    "    lst = []\n",
    "    for t in s:\n",
    "        if t in word2idx:\n",
    "            lst.append(word2idx[t])\n",
    "        else:\n",
    "            lst.append(UNK_IDX)   \n",
    "    queries_sequence.append(lst)\n",
    "\n",
    "print(queries_sequence[:5])"
   ]
  },
  {
   "cell_type": "code",
   "execution_count": 19,
   "id": "7788b7c5-6b6b-499d-a88a-18f0aed8c9b6",
   "metadata": {},
   "outputs": [
    {
     "name": "stdout",
     "output_type": "stream",
     "text": [
      "<class 'torch.Tensor'> torch.Size([21, 5])\n"
     ]
    }
   ],
   "source": [
    "from torch.nn.utils.rnn import pad_sequence\n",
    "import torch\n",
    "\n",
    "\n",
    "queries_tensors = [torch.tensor(seq, dtype=torch.long) for seq in queries_sequence]\n",
    "queries_padded = pad_sequence(queries_tensors, batch_first=True, padding_value=PAD_IDX)\n",
    "print(type(queries_padded), queries_padded.shape)\n"
   ]
  },
  {
   "cell_type": "code",
   "execution_count": 20,
   "id": "b1585c1f-bd7c-4e94-b8e4-c2acd729484d",
   "metadata": {},
   "outputs": [
    {
     "data": {
      "text/plain": [
       "tensor([[ 592,    0,    0,    0,    0],\n",
       "        [1983,    0,    0,    0,    0],\n",
       "        [ 201,  168,    0,    0,    0],\n",
       "        [ 514,   11,  328,    0,    0],\n",
       "        [  78,  211,    0,    0,    0],\n",
       "        [ 373,  211,    0,    0,    0],\n",
       "        [ 301, 3694,    0,    0,    0],\n",
       "        [ 301, 6106,    0,    0,    0],\n",
       "        [ 284,  296,   41,  646,    0],\n",
       "        [  44,    0,    0,    0,    0],\n",
       "        [1589,    0,    0,    0,    0],\n",
       "        [ 514,   11,  117,    0,    0],\n",
       "        [3337,    0,    0,    0,    0],\n",
       "        [ 136,    0,    0,    0,    0],\n",
       "        [ 514,   11,   99,    0,    0],\n",
       "        [ 478,   14, 1176, 1252,    0],\n",
       "        [2516,    0,    0,    0,    0],\n",
       "        [ 478,   14,  171,    0,    0],\n",
       "        [1659,  742,    0,    0,    0],\n",
       "        [2224,   41,  608,    0,    0],\n",
       "        [ 514,   11,  117,   14,   59]])"
      ]
     },
     "execution_count": 20,
     "metadata": {},
     "output_type": "execute_result"
    }
   ],
   "source": [
    "queries_padded"
   ]
  },
  {
   "cell_type": "code",
   "execution_count": 21,
   "id": "dcdd6f4d-c5f6-49fd-83d7-ec943d885ccd",
   "metadata": {},
   "outputs": [
    {
     "data": {
      "text/html": [
       "<div>\n",
       "<style scoped>\n",
       "    .dataframe tbody tr th:only-of-type {\n",
       "        vertical-align: middle;\n",
       "    }\n",
       "\n",
       "    .dataframe tbody tr th {\n",
       "        vertical-align: top;\n",
       "    }\n",
       "\n",
       "    .dataframe thead th {\n",
       "        text-align: right;\n",
       "    }\n",
       "</style>\n",
       "<table border=\"1\" class=\"dataframe\">\n",
       "  <thead>\n",
       "    <tr style=\"text-align: right;\">\n",
       "      <th></th>\n",
       "      <th>query</th>\n",
       "      <th>docno</th>\n",
       "      <th>relevant</th>\n",
       "      <th>text</th>\n",
       "    </tr>\n",
       "  </thead>\n",
       "  <tbody>\n",
       "    <tr>\n",
       "      <th>0</th>\n",
       "      <td>0</td>\n",
       "      <td>ct3cbz_344_0</td>\n",
       "      <td>0</td>\n",
       "      <td>Never cry.</td>\n",
       "    </tr>\n",
       "    <tr>\n",
       "      <th>1</th>\n",
       "      <td>0</td>\n",
       "      <td>u9cNWw_1093_0</td>\n",
       "      <td>0</td>\n",
       "      <td>It never made me happy - it just made me forge...</td>\n",
       "    </tr>\n",
       "    <tr>\n",
       "      <th>2</th>\n",
       "      <td>0</td>\n",
       "      <td>NiqXbk_143_0</td>\n",
       "      <td>1</td>\n",
       "      <td>i am so sad all of a sudden</td>\n",
       "    </tr>\n",
       "    <tr>\n",
       "      <th>3</th>\n",
       "      <td>0</td>\n",
       "      <td>CXu8Yf_453_4</td>\n",
       "      <td>1</td>\n",
       "      <td>It makes me really sad.</td>\n",
       "    </tr>\n",
       "    <tr>\n",
       "      <th>4</th>\n",
       "      <td>0</td>\n",
       "      <td>5j64PU_2964_0</td>\n",
       "      <td>1</td>\n",
       "      <td>I'm so sad now.</td>\n",
       "    </tr>\n",
       "  </tbody>\n",
       "</table>\n",
       "</div>"
      ],
      "text/plain": [
       "   query          docno  relevant  \\\n",
       "0      0   ct3cbz_344_0         0   \n",
       "1      0  u9cNWw_1093_0         0   \n",
       "2      0   NiqXbk_143_0         1   \n",
       "3      0   CXu8Yf_453_4         1   \n",
       "4      0  5j64PU_2964_0         1   \n",
       "\n",
       "                                                text  \n",
       "0                                         Never cry.  \n",
       "1  It never made me happy - it just made me forge...  \n",
       "2                        i am so sad all of a sudden  \n",
       "3                            It makes me really sad.  \n",
       "4                                    I'm so sad now.  "
      ]
     },
     "execution_count": 21,
     "metadata": {},
     "output_type": "execute_result"
    }
   ],
   "source": [
    "df['query'] = df['query'].astype(int)\n",
    "df['query'] -= 1\n",
    "df.head()"
   ]
  },
  {
   "cell_type": "code",
   "execution_count": 22,
   "id": "888fe75c-8c46-41b2-881f-e3dfdfe0d776",
   "metadata": {},
   "outputs": [],
   "source": [
    "import torch.nn.functional as F\n",
    "from torch.nn.utils.rnn import pack_padded_sequence, pad_packed_sequence\n",
    "\n",
    "class LSTM_v2(nn.Module):\n",
    "    def __init__(self, vocab_size, embedding_dim=200, hidden_size=64, pad_idx=0, pdrop=0.5):\n",
    "        super().__init__() \n",
    "        self.embedding = nn.Embedding(vocab_size, embedding_dim, padding_idx = pad_idx)\n",
    "        self.doc_lstm = nn.LSTM(input_size=embedding_dim, hidden_size=64, batch_first=True)\n",
    "        self.query_lstm = nn.LSTM(input_size=embedding_dim, hidden_size=64, batch_first=True)\n",
    "        self.attention = nn.Linear(hidden_size, hidden_size, bias=False)  # Learn the weight of attention\n",
    "\n",
    "        self.dropout = nn.Dropout(pdrop)\n",
    "        self.fc = nn.Linear(hidden_size * 2, 2)\n",
    "\n",
    "    def forward(self, docs, docs_length, queries, queries_length):\n",
    "        d_emb = self.dropout(self.embedding(docs))        # B x len_doc x emb_dim\n",
    "        q_emb = self.dropout(self.embedding(queries))     # B x len_queries x emb_dim\n",
    "        \n",
    "        # Pack padded step using docs_length and queries_length to avoid LSTM reading useless info\n",
    "        d_packed = pack_padded_sequence(d_emb, docs_length.cpu(), batch_first = True, enforce_sorted=False)\n",
    "        q_packed = pack_padded_sequence(q_emb, queries_length.cpu(), batch_first = True, enforce_sorted=False)\n",
    "        \n",
    "        # Forward to LSTM model\n",
    "        \n",
    "        d_output, (d_h, d_c) = self.doc_lstm(d_packed)\n",
    "        d_output, _ = pad_packed_sequence(d_output, batch_first=True)        # d_output : B x seq_len x hidden_size\n",
    "        q_output, (q_h, q_c) = self.query_lstm(q_packed)         # q_h : layer x B x hidden_size\n",
    "\n",
    "        # Attention query_to_doc\n",
    "        q_h = q_h[-1]                            # q_h : B x hidden_size\n",
    "        q_vec = self.attention(q_h).unsqueeze(2) # q_vec: B x hidden_size x 1\n",
    "\n",
    "        scores = torch.bmm(d_output, q_vec).squeeze(2)        # Batch matmul: (seq_len x hidden_size) x (hidden_size x 1) => B x seq_len x 1\n",
    "                                                              # Squeeze : scores : B x seq_len\n",
    "        alpha = F.softmax(scores, dim=1)                # (B x seq_len)\n",
    "\n",
    "        new_alpha = alpha.unsqueeze(1)                  # new_alpha : B x 1 x seq_len\n",
    "        represent_doc = torch.bmm(new_alpha, d_output)  # Batch mul: represent_doc: B x 1 x hidden_size\n",
    "\n",
    "        represent_doc = represent_doc.squeeze(1)      # B x hidden_size\n",
    "        comb = torch.cat([represent_doc, q_h], dim=1)   # B x (2*hidden_size)\n",
    "        comb = self.dropout(comb)                       \n",
    "        logits = self.fc(comb)\n",
    "\n",
    "        return logits"
   ]
  },
  {
   "cell_type": "code",
   "execution_count": 23,
   "id": "3a81d763-ccae-462a-a74f-d51fb6b47fd8",
   "metadata": {},
   "outputs": [
    {
     "name": "stderr",
     "output_type": "stream",
     "text": [
      "C:\\Users\\thaip\\AppData\\Local\\Temp\\ipykernel_5972\\4278401330.py:10: FutureWarning: You are using `torch.load` with `weights_only=False` (the current default value), which uses the default pickle module implicitly. It is possible to construct malicious pickle data which will execute arbitrary code during unpickling (See https://github.com/pytorch/pytorch/blob/main/SECURITY.md#untrusted-models for more details). In a future release, the default value for `weights_only` will be flipped to `True`. This limits the functions that could be executed during unpickling. Arbitrary objects will no longer be allowed to be loaded via this mode unless they are explicitly allowlisted by the user via `torch.serialization.add_safe_globals`. We recommend you start setting `weights_only=True` for any use case where you don't have full control of the loaded file. Please open an issue on GitHub for any issues related to this experimental feature.\n",
      "  model.load_state_dict(torch.load(\"best_LSTM_v2.pt\", map_location=DEVICE))\n"
     ]
    },
    {
     "data": {
      "text/plain": [
       "LSTM_v2(\n",
       "  (embedding): Embedding(6992, 200, padding_idx=0)\n",
       "  (doc_lstm): LSTM(200, 64, batch_first=True)\n",
       "  (query_lstm): LSTM(200, 64, batch_first=True)\n",
       "  (attention): Linear(in_features=64, out_features=64, bias=False)\n",
       "  (dropout): Dropout(p=0.4, inplace=False)\n",
       "  (fc): Linear(in_features=128, out_features=2, bias=True)\n",
       ")"
      ]
     },
     "execution_count": 23,
     "metadata": {},
     "output_type": "execute_result"
    }
   ],
   "source": [
    "DEVICE = torch.device(\"cuda\" if torch.cuda.is_available() else \"cpu\")\n",
    "model = LSTM_v2(\n",
    "    vocab_size=len(word2idx),\n",
    "    embedding_dim=200,\n",
    "    hidden_size=64,\n",
    "    pad_idx=PAD_IDX,\n",
    "    pdrop=0.4\n",
    ").to(DEVICE)\n",
    "\n",
    "model.load_state_dict(torch.load(\"best_LSTM_v2.pt\", map_location=DEVICE))\n",
    "model.eval()   "
   ]
  },
  {
   "cell_type": "code",
   "execution_count": 24,
   "id": "51db0a7b-48db-401c-bce2-396584f247fa",
   "metadata": {},
   "outputs": [
    {
     "data": {
      "text/plain": [
       "[1, 1, 2, 3, 2, 2, 2, 2, 4, 1, 1, 3, 1, 1, 3, 4, 1, 3, 2, 3, 5]"
      ]
     },
     "execution_count": 24,
     "metadata": {},
     "output_type": "execute_result"
    }
   ],
   "source": [
    "queries_length = []\n",
    "for i in range(21):\n",
    "    length = len(queries_tokens[i])\n",
    "    queries_length.append(length)\n",
    "queries_length"
   ]
  },
  {
   "cell_type": "code",
   "execution_count": 25,
   "id": "4cbd9c66-c3b3-450b-9c60-1c0cde0a4fc8",
   "metadata": {},
   "outputs": [],
   "source": [
    "def encode_tokens(tokens, word2idx, unk=1):\n",
    "    return [word2idx.get(tok, unk) for tok in tokens]\n"
   ]
  },
  {
   "cell_type": "code",
   "execution_count": 26,
   "id": "dba8f07a-de93-40f8-a340-fd2078fc36d6",
   "metadata": {},
   "outputs": [
    {
     "name": "stdout",
     "output_type": "stream",
     "text": [
      "[6675, 16, 83, 1]\n"
     ]
    }
   ],
   "source": [
    "tokens = [\"i\", \"feel\", \"very\", \"bleh\"]\n",
    "ids = encode_tokens(tokens, word2idx, unk=UNK_IDX)\n",
    "print(ids)"
   ]
  },
  {
   "cell_type": "code",
   "execution_count": 27,
   "id": "6c53a824-0fb8-46bd-bf9e-7b62e9b317f8",
   "metadata": {},
   "outputs": [],
   "source": [
    "def pad_ids(ids, max_len, pad_idx=0):\n",
    "    \n",
    "    if len(ids) > max_len:       \n",
    "        return ids[:max_len]\n",
    "    else:                       \n",
    "        return ids + [pad_idx] * (max_len - len(ids))\n"
   ]
  },
  {
   "cell_type": "code",
   "execution_count": 28,
   "id": "fe024cd5-fc61-463a-9fdc-a9062ac9237a",
   "metadata": {},
   "outputs": [
    {
     "name": "stdout",
     "output_type": "stream",
     "text": [
      "2133\n",
      "5\n"
     ]
    }
   ],
   "source": [
    "doc_ids = [12, 45, 78, 34]         \n",
    "query_ids = [4, 56]              \n",
    "\n",
    "doc_padded = pad_ids(doc_ids, max_len=2133, pad_idx=0)\n",
    "query_padded = pad_ids(query_ids, max_len=5, pad_idx=0)\n",
    "\n",
    "print(len(doc_padded))   # 2133\n",
    "print(len(query_padded)) # 5\n"
   ]
  },
  {
   "cell_type": "code",
   "execution_count": 30,
   "id": "5365aeb8-fd4c-4106-907a-0b5a601e5b3b",
   "metadata": {},
   "outputs": [],
   "source": [
    "def predict(query_idx, corpus_text):\n",
    "    model.eval()\n",
    "\n",
    "    q_length = torch.tensor([queries_length[query_idx]], dtype=torch.long, device=DEVICE)\n",
    "\n",
    "    tokens = handling_text(corpus_text)             # giờ trả ra list token luôn\n",
    "    doc_ids = encode_tokens(tokens, word2idx, unk=UNK_IDX)\n",
    "\n",
    "    d_length = torch.tensor([len(doc_ids)], dtype=torch.long, device=DEVICE)\n",
    "\n",
    "    doc_padded = pad_ids(doc_ids, max_len=2133, pad_idx=PAD_IDX)\n",
    "    doc_tensor = torch.tensor(doc_padded, dtype=torch.long, device=DEVICE).unsqueeze(0)  # (1, 2133)\n",
    "\n",
    "    query_tensor = queries_padded[query_idx].unsqueeze(0).to(DEVICE)   # (1, 5)\n",
    "\n",
    "    with torch.no_grad():\n",
    "        logits = model(doc_tensor, d_length, query_tensor, q_length)\n",
    "        probs = F.softmax(logits, dim=1)\n",
    "        pred = torch.argmax(probs, dim=1).item()\n",
    "\n",
    "    return pred, probs.squeeze().tolist()\n"
   ]
  },
  {
   "cell_type": "code",
   "execution_count": 31,
   "id": "ddd2e0be-8c03-4a27-9b2a-13b8829b26d7",
   "metadata": {},
   "outputs": [
    {
     "name": "stdout",
     "output_type": "stream",
     "text": [
      "Prediction: 0\n",
      "Probabilities: [0.6176823377609253, 0.3823176622390747]\n"
     ]
    }
   ],
   "source": [
    "doc = \"i don't love you\"\n",
    "query_idx = 6\n",
    "\n",
    "pred, probs = predict(query_idx, doc)\n",
    "print(\"Prediction:\", pred)\n",
    "print(\"Probabilities:\", probs)\n"
   ]
  },
  {
   "cell_type": "code",
   "execution_count": 32,
   "id": "480ca9fa-a37a-4a52-84e6-599af69b023b",
   "metadata": {},
   "outputs": [],
   "source": [
    "df = df.dropna(subset=[\"text\"])\n",
    "df = df[df[\"text\"].str.strip() != \"\"].reset_index(drop=True)\n",
    "\n"
   ]
  },
  {
   "cell_type": "code",
   "execution_count": 33,
   "id": "aac2ef9e-b893-4c04-b21b-2fa32b305e5f",
   "metadata": {},
   "outputs": [
    {
     "name": "stderr",
     "output_type": "stream",
     "text": [
      "  9%|███████▎                                                                     | 1043/11042 [00:21<04:06, 40.51it/s]"
     ]
    },
    {
     "name": "stdout",
     "output_type": "stream",
     "text": [
      "Bỏ qua sample 0FHrA9_2709_0 do lỗi: Length of all samples has to be greater than 0, but found an element in 'lengths' that is <= 0\n"
     ]
    },
    {
     "name": "stderr",
     "output_type": "stream",
     "text": [
      " 10%|███████▎                                                                     | 1053/11042 [00:21<04:14, 39.31it/s]"
     ]
    },
    {
     "name": "stdout",
     "output_type": "stream",
     "text": [
      "Bỏ qua sample 0FHrA9_165_0 do lỗi: Length of all samples has to be greater than 0, but found an element in 'lengths' that is <= 0\n"
     ]
    },
    {
     "name": "stderr",
     "output_type": "stream",
     "text": [
      " 10%|███████▌                                                                     | 1088/11042 [00:22<04:21, 38.10it/s]"
     ]
    },
    {
     "name": "stdout",
     "output_type": "stream",
     "text": [
      "Bỏ qua sample 0FHrA9_1769_1 do lỗi: Length of all samples has to be greater than 0, but found an element in 'lengths' that is <= 0\n",
      "Bỏ qua sample 0FHrA9_1726_2 do lỗi: Length of all samples has to be greater than 0, but found an element in 'lengths' that is <= 0\n"
     ]
    },
    {
     "name": "stderr",
     "output_type": "stream",
     "text": [
      " 10%|███████▋                                                                     | 1100/11042 [00:22<04:02, 40.97it/s]"
     ]
    },
    {
     "name": "stdout",
     "output_type": "stream",
     "text": [
      "Bỏ qua sample 0FHrA9_2408_1 do lỗi: Length of all samples has to be greater than 0, but found an element in 'lengths' that is <= 0\n",
      "Bỏ qua sample 0FHrA9_2824_1 do lỗi: Length of all samples has to be greater than 0, but found an element in 'lengths' that is <= 0\n"
     ]
    },
    {
     "name": "stderr",
     "output_type": "stream",
     "text": [
      " 10%|███████▋                                                                     | 1110/11042 [00:23<04:09, 39.83it/s]"
     ]
    },
    {
     "name": "stdout",
     "output_type": "stream",
     "text": [
      "Bỏ qua sample 0FHrA9_3128_0 do lỗi: Length of all samples has to be greater than 0, but found an element in 'lengths' that is <= 0\n"
     ]
    },
    {
     "name": "stderr",
     "output_type": "stream",
     "text": [
      "100%|████████████████████████████████████████████████████████████████████████████| 11042/11042 [05:18<00:00, 34.66it/s]\n"
     ]
    }
   ],
   "source": [
    "from tqdm import tqdm\n",
    "\n",
    "y_true = []\n",
    "y_pred = []\n",
    "\n",
    "for _, row in tqdm(df.iterrows(), total=len(df)):\n",
    "    query_idx = row[\"query\"]\n",
    "    doc_text = str(row[\"text\"]) if row[\"text\"] is not None else \"\"\n",
    "    label = row[\"relevant\"]\n",
    "\n",
    "    if doc_text.strip() == \"\":\n",
    "        continue\n",
    "\n",
    "    try:\n",
    "        pred, _ = predict(query_idx, doc_text)\n",
    "    except RuntimeError as e:\n",
    "        pred = 0   \n",
    "        print(f\"Bỏ qua sample {row['docno']} do lỗi: {e}\")\n",
    "\n",
    "    y_true.append(label)\n",
    "    y_pred.append(pred)\n",
    "\n",
    "df = df.iloc[:len(y_pred)].copy()\n",
    "df[\"predicted\"] = y_pred\n",
    "\n"
   ]
  },
  {
   "cell_type": "code",
   "execution_count": 34,
   "id": "3d940997-e262-4d35-9b89-3a9fdc22356e",
   "metadata": {},
   "outputs": [],
   "source": [
    "df.to_csv(\"test_predictions_2.csv\", index=False)\n"
   ]
  },
  {
   "cell_type": "code",
   "execution_count": null,
   "id": "a2a3b782-b9d1-4e19-bf84-82e9ea9a0350",
   "metadata": {},
   "outputs": [],
   "source": []
  }
 ],
 "metadata": {
  "kernelspec": {
   "display_name": "Python 3 (ipykernel)",
   "language": "python",
   "name": "python3"
  },
  "language_info": {
   "codemirror_mode": {
    "name": "ipython",
    "version": 3
   },
   "file_extension": ".py",
   "mimetype": "text/x-python",
   "name": "python",
   "nbconvert_exporter": "python",
   "pygments_lexer": "ipython3",
   "version": "3.11.0"
  }
 },
 "nbformat": 4,
 "nbformat_minor": 5
}
