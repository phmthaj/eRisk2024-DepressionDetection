{
 "cells": [
  {
   "cell_type": "code",
   "execution_count": 1,
   "id": "4a5d2c48-dcbb-4780-a059-68ce1b2ff012",
   "metadata": {},
   "outputs": [],
   "source": [
    "import numpy as np\n",
    "import pandas as pd\n",
    "from gensim.models import Word2Vec\n"
   ]
  },
  {
   "cell_type": "code",
   "execution_count": 2,
   "id": "fe9462bd-e92d-440b-8a4b-e2083615ddb4",
   "metadata": {},
   "outputs": [],
   "source": [
    "model = Word2Vec.load(\"word2vec_depression.model\")\n"
   ]
  },
  {
   "cell_type": "code",
   "execution_count": 3,
   "id": "0dec11e4-1cc9-4a3e-8fda-c62ae8d12fa0",
   "metadata": {},
   "outputs": [
    {
     "name": "stdout",
     "output_type": "stream",
     "text": [
      "[('sensitive', 0.9615092873573303), ('sleepy', 0.9607881307601929), ('stressed', 0.9605458974838257), ('alert', 0.9553477168083191), ('annoying', 0.9537540078163147), ('meanwhile', 0.9528123736381531), ('oversleep', 0.9521737694740295), ('horny', 0.9508957862854004), ('tense', 0.9483531713485718), ('disciplined', 0.947603166103363)]\n"
     ]
    }
   ],
   "source": [
    "print(model.wv.most_similar(\"agitated\", topn=10))"
   ]
  },
  {
   "cell_type": "code",
   "execution_count": 4,
   "id": "a0689541-dd59-470f-a2a4-c374993bfc7c",
   "metadata": {},
   "outputs": [],
   "source": [
    "import torch\n",
    "import torch.nn as nn"
   ]
  },
  {
   "cell_type": "code",
   "execution_count": 5,
   "id": "5b1610b8-759a-4f16-95d6-793970487cb4",
   "metadata": {},
   "outputs": [],
   "source": [
    "PAD_IDX, UNK_IDX = 0, 1\n",
    "\n",
    "word2idx = {\"<PAD>\": PAD_IDX, \"<UNK>\": UNK_IDX}\n",
    "wv = model.wv\n",
    "for i, word in enumerate(wv.index_to_key, start=2):\n",
    "    word2idx[word] = i"
   ]
  },
  {
   "cell_type": "code",
   "execution_count": 6,
   "id": "9a7baf61-5de9-4b09-b4ef-d3b527526438",
   "metadata": {},
   "outputs": [
    {
     "name": "stdout",
     "output_type": "stream",
     "text": [
      "<PAD> : 0\n",
      "<UNK> : 1\n",
      "I : 2\n",
      "be : 3\n",
      "and : 4\n",
      "to : 5\n",
      "the : 6\n",
      "a : 7\n",
      "not : 8\n",
      "have : 9\n",
      "my : 10\n",
      "of : 11\n",
      "do : 12\n"
     ]
    }
   ],
   "source": [
    "for i, (word, idx) in enumerate(word2idx.items()):\n",
    "    if i >= 13:\n",
    "        break\n",
    "    print(word, \":\", idx)"
   ]
  },
  {
   "cell_type": "code",
   "execution_count": 7,
   "id": "801bba38-a26a-42b5-a19f-ed47998e67b2",
   "metadata": {},
   "outputs": [
    {
     "data": {
      "text/html": [
       "<div>\n",
       "<style scoped>\n",
       "    .dataframe tbody tr th:only-of-type {\n",
       "        vertical-align: middle;\n",
       "    }\n",
       "\n",
       "    .dataframe tbody tr th {\n",
       "        vertical-align: top;\n",
       "    }\n",
       "\n",
       "    .dataframe thead th {\n",
       "        text-align: right;\n",
       "    }\n",
       "</style>\n",
       "<table border=\"1\" class=\"dataframe\">\n",
       "  <thead>\n",
       "    <tr style=\"text-align: right;\">\n",
       "      <th></th>\n",
       "      <th>query</th>\n",
       "      <th>docno</th>\n",
       "      <th>pre</th>\n",
       "      <th>text</th>\n",
       "      <th>post</th>\n",
       "      <th>source_file</th>\n",
       "      <th>text_clean</th>\n",
       "      <th>text_lemma</th>\n",
       "      <th>token</th>\n",
       "      <th>label</th>\n",
       "      <th>word_len</th>\n",
       "      <th>token_no_stop</th>\n",
       "    </tr>\n",
       "  </thead>\n",
       "  <tbody>\n",
       "    <tr>\n",
       "      <th>0</th>\n",
       "      <td>19</td>\n",
       "      <td>98002_0_18</td>\n",
       "      <td>I also would not mind a few people to talk to ...</td>\n",
       "      <td>Get my mind off of things.</td>\n",
       "      <td>thank for read</td>\n",
       "      <td>s_99.trec</td>\n",
       "      <td>get my mind off of things</td>\n",
       "      <td>get my mind off of thing</td>\n",
       "      <td>['get', 'my', 'mind', 'off', 'of', 'thing']</td>\n",
       "      <td>0</td>\n",
       "      <td>6</td>\n",
       "      <td>['mind', 'thing']</td>\n",
       "    </tr>\n",
       "    <tr>\n",
       "      <th>1</th>\n",
       "      <td>11</td>\n",
       "      <td>98004_0_2</td>\n",
       "      <td>when I be be preppe for surgery the nurse info...</td>\n",
       "      <td>and I became agitated.</td>\n",
       "      <td>I know they want a sterilize environment for t...</td>\n",
       "      <td>s_99.trec</td>\n",
       "      <td>and i became agitated</td>\n",
       "      <td>and I become agitated</td>\n",
       "      <td>['and', 'I', 'become', 'agitated']</td>\n",
       "      <td>1</td>\n",
       "      <td>4</td>\n",
       "      <td>['agitated']</td>\n",
       "    </tr>\n",
       "    <tr>\n",
       "      <th>2</th>\n",
       "      <td>17</td>\n",
       "      <td>98004_0_6</td>\n",
       "      <td>she start wheel I down to surgery and keep ask...</td>\n",
       "      <td>Feeling it?\"</td>\n",
       "      <td>to which I repeatedly tell she no</td>\n",
       "      <td>s_99.trec</td>\n",
       "      <td>feeling it</td>\n",
       "      <td>feel it</td>\n",
       "      <td>['feel', 'it']</td>\n",
       "      <td>0</td>\n",
       "      <td>2</td>\n",
       "      <td>['feel']</td>\n",
       "    </tr>\n",
       "    <tr>\n",
       "      <th>3</th>\n",
       "      <td>18</td>\n",
       "      <td>98006_0_22</td>\n",
       "      <td>that be when it will really set in that the wh...</td>\n",
       "      <td>That is when he will realize that he really do...</td>\n",
       "      <td>that he be struggle to even eat 2000 cal in on...</td>\n",
       "      <td>s_99.trec</td>\n",
       "      <td>that is when he will realize that he really do...</td>\n",
       "      <td>that be when he will realize that he really do...</td>\n",
       "      <td>['that', 'be', 'when', 'he', 'will', 'realize'...</td>\n",
       "      <td>0</td>\n",
       "      <td>15</td>\n",
       "      <td>['realize', 'eat']</td>\n",
       "    </tr>\n",
       "    <tr>\n",
       "      <th>4</th>\n",
       "      <td>18</td>\n",
       "      <td>98006_0_26</td>\n",
       "      <td>tldr people be skinny because they do not eat ...</td>\n",
       "      <td>If you are skinny it is because you do not eat...</td>\n",
       "      <td>or you have parasite which you do not</td>\n",
       "      <td>s_99.trec</td>\n",
       "      <td>if you are skinny it is because you do not eat...</td>\n",
       "      <td>if you be skinny it be because you do not eat ...</td>\n",
       "      <td>['if', 'you', 'be', 'skinny', 'it', 'be', 'bec...</td>\n",
       "      <td>0</td>\n",
       "      <td>12</td>\n",
       "      <td>['skinny', 'eat']</td>\n",
       "    </tr>\n",
       "  </tbody>\n",
       "</table>\n",
       "</div>"
      ],
      "text/plain": [
       "   query       docno                                                pre  \\\n",
       "0     19  98002_0_18  I also would not mind a few people to talk to ...   \n",
       "1     11   98004_0_2  when I be be preppe for surgery the nurse info...   \n",
       "2     17   98004_0_6  she start wheel I down to surgery and keep ask...   \n",
       "3     18  98006_0_22  that be when it will really set in that the wh...   \n",
       "4     18  98006_0_26  tldr people be skinny because they do not eat ...   \n",
       "\n",
       "                                                text  \\\n",
       "0                         Get my mind off of things.   \n",
       "1                             and I became agitated.   \n",
       "2                                       Feeling it?\"   \n",
       "3  That is when he will realize that he really do...   \n",
       "4  If you are skinny it is because you do not eat...   \n",
       "\n",
       "                                                post source_file  \\\n",
       "0                                     thank for read   s_99.trec   \n",
       "1  I know they want a sterilize environment for t...   s_99.trec   \n",
       "2                  to which I repeatedly tell she no   s_99.trec   \n",
       "3  that he be struggle to even eat 2000 cal in on...   s_99.trec   \n",
       "4              or you have parasite which you do not   s_99.trec   \n",
       "\n",
       "                                          text_clean  \\\n",
       "0                          get my mind off of things   \n",
       "1                              and i became agitated   \n",
       "2                                         feeling it   \n",
       "3  that is when he will realize that he really do...   \n",
       "4  if you are skinny it is because you do not eat...   \n",
       "\n",
       "                                          text_lemma  \\\n",
       "0                           get my mind off of thing   \n",
       "1                              and I become agitated   \n",
       "2                                            feel it   \n",
       "3  that be when he will realize that he really do...   \n",
       "4  if you be skinny it be because you do not eat ...   \n",
       "\n",
       "                                               token  label  word_len  \\\n",
       "0        ['get', 'my', 'mind', 'off', 'of', 'thing']      0         6   \n",
       "1                 ['and', 'I', 'become', 'agitated']      1         4   \n",
       "2                                     ['feel', 'it']      0         2   \n",
       "3  ['that', 'be', 'when', 'he', 'will', 'realize'...      0        15   \n",
       "4  ['if', 'you', 'be', 'skinny', 'it', 'be', 'bec...      0        12   \n",
       "\n",
       "        token_no_stop  \n",
       "0   ['mind', 'thing']  \n",
       "1        ['agitated']  \n",
       "2            ['feel']  \n",
       "3  ['realize', 'eat']  \n",
       "4   ['skinny', 'eat']  "
      ]
     },
     "execution_count": 7,
     "metadata": {},
     "output_type": "execute_result"
    }
   ],
   "source": [
    "import ast\n",
    "df = pd.read_csv(\"dataset_2024_clean_2.csv\")\n",
    "df.head()"
   ]
  },
  {
   "cell_type": "code",
   "execution_count": 8,
   "id": "820456e0-7ea3-492f-a623-9e5a3c14d6d8",
   "metadata": {},
   "outputs": [
    {
     "name": "stdout",
     "output_type": "stream",
     "text": [
      "<class 'list'>\n"
     ]
    }
   ],
   "source": [
    "df['token'] = df['token'].apply(lambda x: ast.literal_eval(x) if isinstance(x, str) else x)\n",
    "print(type(df['token'].iloc[0]))\n"
   ]
  },
  {
   "cell_type": "code",
   "execution_count": 9,
   "id": "5e01c164-14f1-428a-b836-5c2fd1aabeb6",
   "metadata": {},
   "outputs": [],
   "source": [
    "def encode_tokens(tokens, word2idx, unk=UNK_IDX):\n",
    "    return [word2idx.get(tok, unk) for tok in tokens]\n"
   ]
  },
  {
   "cell_type": "code",
   "execution_count": 10,
   "id": "10510509-de21-4e5a-b024-3b62355816e1",
   "metadata": {},
   "outputs": [
    {
     "data": {
      "text/plain": [
       "0                           [23, 10, 250, 119, 11, 54]\n",
       "1                                    [4, 2, 194, 1589]\n",
       "2                                             [16, 13]\n",
       "3    [15, 3, 40, 18, 66, 251, 15, 18, 60, 12, 8, 11...\n",
       "4    [57, 29, 3, 4163, 13, 3, 51, 29, 12, 8, 112, 237]\n",
       "Name: token_idx, dtype: object"
      ]
     },
     "execution_count": 10,
     "metadata": {},
     "output_type": "execute_result"
    }
   ],
   "source": [
    "df[\"token_idx\"] = df[\"token\"].apply(lambda toks: encode_tokens(toks, word2idx))\n",
    "df[\"token_idx\"].head()"
   ]
  },
  {
   "cell_type": "code",
   "execution_count": 11,
   "id": "4fa81490-15a9-4d22-95dd-9e1cb721b097",
   "metadata": {},
   "outputs": [],
   "source": [
    "from torch.nn.utils.rnn import pad_sequence\n",
    "import torch\n",
    "\n",
    "sequences = [torch.tensor(x) for x in df['token_idx']]\n",
    "padded = pad_sequence(sequences, batch_first=True, padding_value=PAD_IDX)\n"
   ]
  },
  {
   "cell_type": "code",
   "execution_count": 12,
   "id": "d8772509-3715-4b37-a7e6-4678e5a86ffb",
   "metadata": {},
   "outputs": [
    {
     "data": {
      "text/plain": [
       "tensor([[ 23,  10, 250,  ...,   0,   0,   0],\n",
       "        [  4,   2, 194,  ...,   0,   0,   0]])"
      ]
     },
     "execution_count": 12,
     "metadata": {},
     "output_type": "execute_result"
    }
   ],
   "source": [
    "padded[:2]"
   ]
  },
  {
   "cell_type": "code",
   "execution_count": 13,
   "id": "8fbef2b9-0af6-4770-b33f-5dfbc4d8fa76",
   "metadata": {},
   "outputs": [
    {
     "name": "stdout",
     "output_type": "stream",
     "text": [
      "6992\n",
      "200\n"
     ]
    }
   ],
   "source": [
    "vocab_size = len(word2idx)\n",
    "embed_dim = wv.vector_size\n",
    "print(vocab_size)\n",
    "print(embed_dim)"
   ]
  },
  {
   "cell_type": "code",
   "execution_count": 14,
   "id": "98da30e9-5b73-48d8-898e-ca8a5421b507",
   "metadata": {},
   "outputs": [],
   "source": [
    "weights_matrix = np.zeros((vocab_size, embed_dim))\n",
    "for word, idx in word2idx.items():\n",
    "    if word in wv:\n",
    "        weights_matrix[idx] = wv[word]\n",
    "    else:\n",
    "        weights_matrix[idx] = np.zeros(embed_dim)"
   ]
  },
  {
   "cell_type": "code",
   "execution_count": 15,
   "id": "c08befde-8b54-4ff7-b09a-a58466ded2f9",
   "metadata": {},
   "outputs": [],
   "source": [
    "labels = torch.tensor(df['label'].values)   # shape [num_samples]\n"
   ]
  },
  {
   "cell_type": "code",
   "execution_count": 16,
   "id": "bf0a8f07-c4d5-4ec8-8528-f72f59be4542",
   "metadata": {},
   "outputs": [],
   "source": [
    "queries_tokens = [\n",
    "    [\"sadness\"],                             # 1\n",
    "    [\"pessimistic\"],                           # 2\n",
    "    [\"past\", \"failure\"],                     # 3\n",
    "    [\"loss\", \"of\", \"pleasure\"],              # 4\n",
    "    [\"guilty\", \"feeling\"],                   # 5\n",
    "    [\"punishment\", \"feeling\"],               # 6\n",
    "    [\"self\", \"dislike\"],                     # 7\n",
    "    [\"self\", \"critical\"],                # 8\n",
    "    [\"suicidal\", \"thought\", \"or\", \"wish\"],   # 9\n",
    "    [\"cry\"],                                 # 10\n",
    "    [\"agitated\"],                           # 11\n",
    "    [\"loss\", \"of\", \"interest\"],              # 12\n",
    "    [\"indecisiveness\"],                      # 13\n",
    "    [\"worthless\"],                       # 14\n",
    "    [\"loss\", \"of\", \"energy\"],                # 15\n",
    "    [\"change\", \"in\", \"sleeping\", \"pattern\"], # 16\n",
    "    [\"irritability\"],                        # 17\n",
    "    [\"change\", \"in\", \"appetite\"],            # 18\n",
    "    [\"concentration\", \"difficulty\"],         # 19\n",
    "    [\"tiredness\", \"or\", \"fatigue\"],          # 20\n",
    "    [\"loss\", \"of\", \"interest\", \"in\", \"sex\"]  # 21\n",
    "]\n"
   ]
  },
  {
   "cell_type": "code",
   "execution_count": 17,
   "id": "b87f5199-297b-4285-b049-8dddfb29e51f",
   "metadata": {},
   "outputs": [],
   "source": [
    "for tokens in queries_tokens:\n",
    "    for t in tokens:\n",
    "        if t not in wv:\n",
    "            print(\"OOV:\", t)"
   ]
  },
  {
   "cell_type": "code",
   "execution_count": 18,
   "id": "c4a2f9e8-5c11-4d52-87db-ed20ee3feac3",
   "metadata": {},
   "outputs": [
    {
     "name": "stdout",
     "output_type": "stream",
     "text": [
      "[[592], [1983], [201, 168], [514, 11, 328], [78, 211]]\n"
     ]
    }
   ],
   "source": [
    "PAD_IDX, UNK_IDX = 0, 1\n",
    "\n",
    "queries_sequence = []\n",
    "for s in queries_tokens:\n",
    "    lst = []\n",
    "    for t in s:\n",
    "        if t in word2idx:\n",
    "            lst.append(word2idx[t])\n",
    "        else:\n",
    "            lst.append(UNK_IDX)   \n",
    "    queries_sequence.append(lst)\n",
    "\n",
    "print(queries_sequence[:5])"
   ]
  },
  {
   "cell_type": "code",
   "execution_count": 19,
   "id": "c0e794df-c7d4-44e9-ab53-275199269e49",
   "metadata": {},
   "outputs": [
    {
     "name": "stdout",
     "output_type": "stream",
     "text": [
      "<class 'torch.Tensor'> torch.Size([21, 5])\n"
     ]
    }
   ],
   "source": [
    "from torch.nn.utils.rnn import pad_sequence\n",
    "import torch\n",
    "\n",
    "\n",
    "queries_tensors = [torch.tensor(seq, dtype=torch.long) for seq in queries_sequence]\n",
    "queries_padded = pad_sequence(queries_tensors, batch_first=True, padding_value=PAD_IDX)\n",
    "print(type(queries_padded), queries_padded.shape)\n"
   ]
  },
  {
   "cell_type": "code",
   "execution_count": 20,
   "id": "3ec9d74a-0e7c-4ba7-891b-407c819b0104",
   "metadata": {},
   "outputs": [
    {
     "data": {
      "text/plain": [
       "tensor([[ 592,    0,    0,    0,    0],\n",
       "        [1983,    0,    0,    0,    0],\n",
       "        [ 201,  168,    0,    0,    0],\n",
       "        [ 514,   11,  328,    0,    0],\n",
       "        [  78,  211,    0,    0,    0],\n",
       "        [ 373,  211,    0,    0,    0],\n",
       "        [ 301, 3694,    0,    0,    0],\n",
       "        [ 301, 6106,    0,    0,    0],\n",
       "        [ 284,  296,   41,  646,    0],\n",
       "        [  44,    0,    0,    0,    0],\n",
       "        [1589,    0,    0,    0,    0],\n",
       "        [ 514,   11,  117,    0,    0],\n",
       "        [3337,    0,    0,    0,    0],\n",
       "        [ 136,    0,    0,    0,    0],\n",
       "        [ 514,   11,   99,    0,    0],\n",
       "        [ 478,   14, 1176, 1252,    0],\n",
       "        [2516,    0,    0,    0,    0],\n",
       "        [ 478,   14,  171,    0,    0],\n",
       "        [1659,  742,    0,    0,    0],\n",
       "        [2224,   41,  608,    0,    0],\n",
       "        [ 514,   11,  117,   14,   59]])"
      ]
     },
     "execution_count": 20,
     "metadata": {},
     "output_type": "execute_result"
    }
   ],
   "source": [
    "queries_padded"
   ]
  },
  {
   "cell_type": "code",
   "execution_count": 21,
   "id": "136e451b-ad37-4a14-873f-304aae1cd852",
   "metadata": {},
   "outputs": [],
   "source": [
    "queries = torch.tensor(df[\"query\"].values, dtype=torch.long)\n",
    "q_idx = (queries - 1).clamp(min=0, max=queries_padded.size(0)-1)   # 0..20\n",
    "query_tokens_per_sample = queries_padded[q_idx]\n"
   ]
  },
  {
   "cell_type": "code",
   "execution_count": 22,
   "id": "95d80731-a281-4f03-a5db-56953b80b4d3",
   "metadata": {},
   "outputs": [],
   "source": [
    "class TextDataset(torch.utils.data.Dataset):\n",
    "    def __init__(self, docs, labels, qtokens):\n",
    "        assert len(docs) == len(labels) == len(qtokens)\n",
    "        self.docs = docs.long()\n",
    "        self.labels = labels.long()\n",
    "        self.qtokens = qtokens.long()\n",
    "    def __len__(self): return len(self.docs)\n",
    "    def __getitem__(self, idx):\n",
    "        return self.docs[idx], self.labels[idx], self.qtokens[idx]\n"
   ]
  },
  {
   "cell_type": "code",
   "execution_count": 23,
   "id": "c305ed36-2a10-4234-af21-8636637a9028",
   "metadata": {},
   "outputs": [],
   "source": [
    "dataset = TextDataset(padded, labels, query_tokens_per_sample)"
   ]
  },
  {
   "cell_type": "code",
   "execution_count": 24,
   "id": "0fd6ad36-a94b-493b-94fc-ae07c41f9b29",
   "metadata": {},
   "outputs": [
    {
     "name": "stdout",
     "output_type": "stream",
     "text": [
      "torch.Size([14823, 2133])\n",
      "torch.Size([14823])\n",
      "torch.Size([21, 5])\n",
      "torch.Size([14823, 5])\n"
     ]
    }
   ],
   "source": [
    "print(padded.shape)                   \n",
    "print(labels.shape)                   \n",
    "print(queries_padded.shape)           \n",
    "print(query_tokens_per_sample.shape)  \n"
   ]
  },
  {
   "cell_type": "code",
   "execution_count": 25,
   "id": "907f29d3-930e-4b3e-bf5f-c14623ee9e44",
   "metadata": {},
   "outputs": [],
   "source": [
    "from torch.utils.data import random_split, DataLoader\n",
    "\n",
    "n_total = len(dataset)\n",
    "n_train = int(0.8 * n_total)\n",
    "n_val   = int(0.1 * n_total)\n",
    "n_test  = n_total - n_train - n_val\n",
    "\n",
    "train_set, val_set, test_set = random_split(\n",
    "    dataset,\n",
    "    [n_train, n_val, n_test],\n",
    "    generator=torch.Generator().manual_seed(42)  \n",
    ")\n",
    "\n",
    "train_loader = DataLoader(train_set, batch_size=64, shuffle=True, num_workers=0, pin_memory=True)\n",
    "val_loader   = DataLoader(val_set, batch_size=64, shuffle=False, num_workers=0, pin_memory=True)\n",
    "test_loader  = DataLoader(test_set, batch_size=64, shuffle=False, num_workers=0, pin_memory=True)\n"
   ]
  },
  {
   "cell_type": "code",
   "execution_count": 26,
   "id": "68851808-1709-4e56-856e-4d14290cce29",
   "metadata": {},
   "outputs": [],
   "source": [
    "import torch\n",
    "import torch.nn as nn\n",
    "\n",
    "class LSTMClassifier(nn.Module):\n",
    "    def __init__(self, vocab_size, emb_dim=200, hidden_size=64, pad_idx=0, pdrop=0.5):\n",
    "        super().__init__()\n",
    "        self.embedding = nn.Embedding(vocab_size, emb_dim, padding_idx=pad_idx)\n",
    "        self.doc_lstm = nn.LSTM(emb_dim, hidden_size, batch_first=True)\n",
    "        self.query_lstm = nn.LSTM(emb_dim, hidden_size, batch_first=True)\n",
    "        \n",
    "        self.dropout = nn.Dropout(pdrop)                \n",
    "        self.fc = nn.Linear(hidden_size * 2, 2)\n",
    "\n",
    "    def forward(self, docs, queries):\n",
    "        d_emb = self.dropout(self.embedding(docs))      \n",
    "        q_emb = self.dropout(self.embedding(queries))\n",
    "\n",
    "        _, (d_h, _) = self.doc_lstm(d_emb)\n",
    "        _, (q_h, _) = self.query_lstm(q_emb)\n",
    "\n",
    "        d_vec = d_h[-1]\n",
    "        q_vec = q_h[-1]\n",
    "\n",
    "        comb = torch.cat([d_vec, q_vec], dim=1)\n",
    "        comb = self.dropout(comb)                       \n",
    "        logits = self.fc(comb)\n",
    "        return logits\n",
    "\n"
   ]
  },
  {
   "cell_type": "code",
   "execution_count": 27,
   "id": "c943190e-808d-4107-a117-542e9fd5f15c",
   "metadata": {},
   "outputs": [],
   "source": [
    "import torch\n",
    "import torch.nn\n",
    "from torch.nn.utils.rnn import pack_padded_sequence, pad_packed_sequence\n"
   ]
  },
  {
   "cell_type": "code",
   "execution_count": 28,
   "id": "5e8b5712-9134-4b14-be39-438246ffa828",
   "metadata": {},
   "outputs": [],
   "source": [
    "import torch.nn.functional as F\n",
    "class LSTM_v2(nn.Module):\n",
    "    def __init__(self, vocab_size, embedding_dim=200, hidden_size=64, pad_idx=0, pdrop=0.3):\n",
    "        super().__init__() \n",
    "        self.embedding = nn.Embedding(vocab_size, embedding_dim, padding_idx = pad_idx)\n",
    "        self.doc_lstm = nn.LSTM(input_size=embedding_dim, hidden_size=64, batch_first=True)\n",
    "        self.query_lstm = nn.LSTM(input_size=embedding_dim, hidden_size=64, batch_first=True)\n",
    "        self.attention = nn.Linear(hidden_size, hidden_size, bias=False)  # Learn the weight of attention\n",
    "\n",
    "        self.dropout = nn.Dropout(pdrop)\n",
    "        self.fc = nn.Linear(hidden_size * 2, 2)\n",
    "\n",
    "    def forward(self, docs, docs_length, queries, queries_length):\n",
    "        d_emb = self.dropout(self.embedding(docs))        # B x len_doc x emb_dim\n",
    "        q_emb = self.dropout(self.embedding(queries))     # B x len_queries x emb_dim\n",
    "        \n",
    "        # Pack padded step using docs_length and queries_length to avoid LSTM reading useless info\n",
    "        d_packed = pack_padded_sequence(d_emb, docs_length.cpu(), batch_first = True, enforce_sorted=False)\n",
    "        q_packed = pack_padded_sequence(q_emb, queries_length.cpu(), batch_first = True, enforce_sorted=False)\n",
    "        \n",
    "        # Forward to LSTM model\n",
    "        \n",
    "        d_output, (d_h, d_c) = self.doc_lstm(d_packed)\n",
    "        d_output, _ = pad_packed_sequence(d_output, batch_first=True)        # d_output : B x seq_len x hidden_size\n",
    "        q_output, (q_h, q_c) = self.query_lstm(q_packed)         # q_h : layer x B x hidden_size\n",
    "\n",
    "        # Attention query_to_doc\n",
    "        q_h = q_h[-1]                            # q_h : B x hidden_size\n",
    "        q_vec = self.attention(q_h).unsqueeze(2) # q_vec: B x hidden_size x 1\n",
    "\n",
    "        scores = torch.bmm(d_output, q_vec).squeeze(2)        # Batch matmul: (seq_len x hidden_size) x (hidden_size x 1) => B x seq_len x 1\n",
    "                                                              # Squeeze : scores : B x seq_len\n",
    "        alpha = F.softmax(scores, dim=1)                # (B x seq_len)\n",
    "\n",
    "        new_alpha = alpha.unsqueeze(1)                  # new_alpha : B x 1 x seq_len\n",
    "        represent_doc = torch.bmm(new_alpha, d_output)  # Batch mul: represent_doc: B x 1 x hidden_size\n",
    "\n",
    "        represent_doc = represent_doc.squeeze(1)      # B x hidden_size\n",
    "        comb = torch.cat([represent_doc, q_h], dim=1)   # B x (2*hidden_size)\n",
    "        comb = self.dropout(comb)                       \n",
    "        logits = self.fc(comb)\n",
    "\n",
    "        return logits\n",
    "\n",
    "        \n",
    "        \n"
   ]
  },
  {
   "cell_type": "code",
   "execution_count": 30,
   "id": "ef194fdf-a81a-4667-96f0-6e2b3ab1ac29",
   "metadata": {},
   "outputs": [
    {
     "data": {
      "text/plain": [
       "[1, 1, 2, 3, 2, 2, 2, 2, 4, 1, 1, 3, 1, 1, 3, 4, 1, 3, 2, 3, 5]"
      ]
     },
     "execution_count": 30,
     "metadata": {},
     "output_type": "execute_result"
    }
   ],
   "source": [
    "queries_length = []\n",
    "for q in queries_tokens:\n",
    "    l = len(q)\n",
    "    queries_length.append(l)\n",
    "queries_length"
   ]
  },
  {
   "cell_type": "code",
   "execution_count": 31,
   "id": "b8a85c52-47da-4d69-ab1d-5347c2836329",
   "metadata": {},
   "outputs": [
    {
     "data": {
      "text/plain": [
       "tensor([18, 10, 16, 17, 17, 18, 18, 18, 15, 15])"
      ]
     },
     "execution_count": 31,
     "metadata": {},
     "output_type": "execute_result"
    }
   ],
   "source": [
    "q_idx[:10]"
   ]
  },
  {
   "cell_type": "code",
   "execution_count": 32,
   "id": "8a84b814-4beb-45b5-976e-a6368fbf9e95",
   "metadata": {},
   "outputs": [
    {
     "data": {
      "text/html": [
       "<div>\n",
       "<style scoped>\n",
       "    .dataframe tbody tr th:only-of-type {\n",
       "        vertical-align: middle;\n",
       "    }\n",
       "\n",
       "    .dataframe tbody tr th {\n",
       "        vertical-align: top;\n",
       "    }\n",
       "\n",
       "    .dataframe thead th {\n",
       "        text-align: right;\n",
       "    }\n",
       "</style>\n",
       "<table border=\"1\" class=\"dataframe\">\n",
       "  <thead>\n",
       "    <tr style=\"text-align: right;\">\n",
       "      <th></th>\n",
       "      <th>query</th>\n",
       "      <th>docno</th>\n",
       "      <th>pre</th>\n",
       "      <th>text</th>\n",
       "      <th>post</th>\n",
       "      <th>source_file</th>\n",
       "      <th>text_clean</th>\n",
       "      <th>text_lemma</th>\n",
       "      <th>token</th>\n",
       "      <th>label</th>\n",
       "      <th>word_len</th>\n",
       "      <th>token_no_stop</th>\n",
       "      <th>token_idx</th>\n",
       "    </tr>\n",
       "  </thead>\n",
       "  <tbody>\n",
       "    <tr>\n",
       "      <th>0</th>\n",
       "      <td>19</td>\n",
       "      <td>98002_0_18</td>\n",
       "      <td>I also would not mind a few people to talk to ...</td>\n",
       "      <td>Get my mind off of things.</td>\n",
       "      <td>thank for read</td>\n",
       "      <td>s_99.trec</td>\n",
       "      <td>get my mind off of things</td>\n",
       "      <td>get my mind off of thing</td>\n",
       "      <td>[get, my, mind, off, of, thing]</td>\n",
       "      <td>0</td>\n",
       "      <td>6</td>\n",
       "      <td>['mind', 'thing']</td>\n",
       "      <td>[23, 10, 250, 119, 11, 54]</td>\n",
       "    </tr>\n",
       "    <tr>\n",
       "      <th>1</th>\n",
       "      <td>11</td>\n",
       "      <td>98004_0_2</td>\n",
       "      <td>when I be be preppe for surgery the nurse info...</td>\n",
       "      <td>and I became agitated.</td>\n",
       "      <td>I know they want a sterilize environment for t...</td>\n",
       "      <td>s_99.trec</td>\n",
       "      <td>and i became agitated</td>\n",
       "      <td>and I become agitated</td>\n",
       "      <td>[and, I, become, agitated]</td>\n",
       "      <td>1</td>\n",
       "      <td>4</td>\n",
       "      <td>['agitated']</td>\n",
       "      <td>[4, 2, 194, 1589]</td>\n",
       "    </tr>\n",
       "    <tr>\n",
       "      <th>2</th>\n",
       "      <td>17</td>\n",
       "      <td>98004_0_6</td>\n",
       "      <td>she start wheel I down to surgery and keep ask...</td>\n",
       "      <td>Feeling it?\"</td>\n",
       "      <td>to which I repeatedly tell she no</td>\n",
       "      <td>s_99.trec</td>\n",
       "      <td>feeling it</td>\n",
       "      <td>feel it</td>\n",
       "      <td>[feel, it]</td>\n",
       "      <td>0</td>\n",
       "      <td>2</td>\n",
       "      <td>['feel']</td>\n",
       "      <td>[16, 13]</td>\n",
       "    </tr>\n",
       "    <tr>\n",
       "      <th>3</th>\n",
       "      <td>18</td>\n",
       "      <td>98006_0_22</td>\n",
       "      <td>that be when it will really set in that the wh...</td>\n",
       "      <td>That is when he will realize that he really do...</td>\n",
       "      <td>that he be struggle to even eat 2000 cal in on...</td>\n",
       "      <td>s_99.trec</td>\n",
       "      <td>that is when he will realize that he really do...</td>\n",
       "      <td>that be when he will realize that he really do...</td>\n",
       "      <td>[that, be, when, he, will, realize, that, he, ...</td>\n",
       "      <td>0</td>\n",
       "      <td>15</td>\n",
       "      <td>['realize', 'eat']</td>\n",
       "      <td>[15, 3, 40, 18, 66, 251, 15, 18, 60, 12, 8, 11...</td>\n",
       "    </tr>\n",
       "    <tr>\n",
       "      <th>4</th>\n",
       "      <td>18</td>\n",
       "      <td>98006_0_26</td>\n",
       "      <td>tldr people be skinny because they do not eat ...</td>\n",
       "      <td>If you are skinny it is because you do not eat...</td>\n",
       "      <td>or you have parasite which you do not</td>\n",
       "      <td>s_99.trec</td>\n",
       "      <td>if you are skinny it is because you do not eat...</td>\n",
       "      <td>if you be skinny it be because you do not eat ...</td>\n",
       "      <td>[if, you, be, skinny, it, be, because, you, do...</td>\n",
       "      <td>0</td>\n",
       "      <td>12</td>\n",
       "      <td>['skinny', 'eat']</td>\n",
       "      <td>[57, 29, 3, 4163, 13, 3, 51, 29, 12, 8, 112, 237]</td>\n",
       "    </tr>\n",
       "  </tbody>\n",
       "</table>\n",
       "</div>"
      ],
      "text/plain": [
       "   query       docno                                                pre  \\\n",
       "0     19  98002_0_18  I also would not mind a few people to talk to ...   \n",
       "1     11   98004_0_2  when I be be preppe for surgery the nurse info...   \n",
       "2     17   98004_0_6  she start wheel I down to surgery and keep ask...   \n",
       "3     18  98006_0_22  that be when it will really set in that the wh...   \n",
       "4     18  98006_0_26  tldr people be skinny because they do not eat ...   \n",
       "\n",
       "                                                text  \\\n",
       "0                         Get my mind off of things.   \n",
       "1                             and I became agitated.   \n",
       "2                                       Feeling it?\"   \n",
       "3  That is when he will realize that he really do...   \n",
       "4  If you are skinny it is because you do not eat...   \n",
       "\n",
       "                                                post source_file  \\\n",
       "0                                     thank for read   s_99.trec   \n",
       "1  I know they want a sterilize environment for t...   s_99.trec   \n",
       "2                  to which I repeatedly tell she no   s_99.trec   \n",
       "3  that he be struggle to even eat 2000 cal in on...   s_99.trec   \n",
       "4              or you have parasite which you do not   s_99.trec   \n",
       "\n",
       "                                          text_clean  \\\n",
       "0                          get my mind off of things   \n",
       "1                              and i became agitated   \n",
       "2                                         feeling it   \n",
       "3  that is when he will realize that he really do...   \n",
       "4  if you are skinny it is because you do not eat...   \n",
       "\n",
       "                                          text_lemma  \\\n",
       "0                           get my mind off of thing   \n",
       "1                              and I become agitated   \n",
       "2                                            feel it   \n",
       "3  that be when he will realize that he really do...   \n",
       "4  if you be skinny it be because you do not eat ...   \n",
       "\n",
       "                                               token  label  word_len  \\\n",
       "0                    [get, my, mind, off, of, thing]      0         6   \n",
       "1                         [and, I, become, agitated]      1         4   \n",
       "2                                         [feel, it]      0         2   \n",
       "3  [that, be, when, he, will, realize, that, he, ...      0        15   \n",
       "4  [if, you, be, skinny, it, be, because, you, do...      0        12   \n",
       "\n",
       "        token_no_stop                                          token_idx  \n",
       "0   ['mind', 'thing']                         [23, 10, 250, 119, 11, 54]  \n",
       "1        ['agitated']                                  [4, 2, 194, 1589]  \n",
       "2            ['feel']                                           [16, 13]  \n",
       "3  ['realize', 'eat']  [15, 3, 40, 18, 66, 251, 15, 18, 60, 12, 8, 11...  \n",
       "4   ['skinny', 'eat']  [57, 29, 3, 4163, 13, 3, 51, 29, 12, 8, 112, 237]  "
      ]
     },
     "execution_count": 32,
     "metadata": {},
     "output_type": "execute_result"
    }
   ],
   "source": [
    "df['query'] = df['query'].astype(int)\n",
    "df.head()\n"
   ]
  },
  {
   "cell_type": "code",
   "execution_count": 33,
   "id": "6cefcaaa-a69a-4bda-92e7-264c5f4b82fd",
   "metadata": {},
   "outputs": [
    {
     "data": {
      "text/html": [
       "<div>\n",
       "<style scoped>\n",
       "    .dataframe tbody tr th:only-of-type {\n",
       "        vertical-align: middle;\n",
       "    }\n",
       "\n",
       "    .dataframe tbody tr th {\n",
       "        vertical-align: top;\n",
       "    }\n",
       "\n",
       "    .dataframe thead th {\n",
       "        text-align: right;\n",
       "    }\n",
       "</style>\n",
       "<table border=\"1\" class=\"dataframe\">\n",
       "  <thead>\n",
       "    <tr style=\"text-align: right;\">\n",
       "      <th></th>\n",
       "      <th>query</th>\n",
       "      <th>docno</th>\n",
       "      <th>pre</th>\n",
       "      <th>text</th>\n",
       "      <th>post</th>\n",
       "      <th>source_file</th>\n",
       "      <th>text_clean</th>\n",
       "      <th>text_lemma</th>\n",
       "      <th>token</th>\n",
       "      <th>label</th>\n",
       "      <th>word_len</th>\n",
       "      <th>token_no_stop</th>\n",
       "      <th>token_idx</th>\n",
       "    </tr>\n",
       "  </thead>\n",
       "  <tbody>\n",
       "    <tr>\n",
       "      <th>0</th>\n",
       "      <td>18</td>\n",
       "      <td>98002_0_18</td>\n",
       "      <td>I also would not mind a few people to talk to ...</td>\n",
       "      <td>Get my mind off of things.</td>\n",
       "      <td>thank for read</td>\n",
       "      <td>s_99.trec</td>\n",
       "      <td>get my mind off of things</td>\n",
       "      <td>get my mind off of thing</td>\n",
       "      <td>[get, my, mind, off, of, thing]</td>\n",
       "      <td>0</td>\n",
       "      <td>6</td>\n",
       "      <td>['mind', 'thing']</td>\n",
       "      <td>[23, 10, 250, 119, 11, 54]</td>\n",
       "    </tr>\n",
       "    <tr>\n",
       "      <th>1</th>\n",
       "      <td>10</td>\n",
       "      <td>98004_0_2</td>\n",
       "      <td>when I be be preppe for surgery the nurse info...</td>\n",
       "      <td>and I became agitated.</td>\n",
       "      <td>I know they want a sterilize environment for t...</td>\n",
       "      <td>s_99.trec</td>\n",
       "      <td>and i became agitated</td>\n",
       "      <td>and I become agitated</td>\n",
       "      <td>[and, I, become, agitated]</td>\n",
       "      <td>1</td>\n",
       "      <td>4</td>\n",
       "      <td>['agitated']</td>\n",
       "      <td>[4, 2, 194, 1589]</td>\n",
       "    </tr>\n",
       "    <tr>\n",
       "      <th>2</th>\n",
       "      <td>16</td>\n",
       "      <td>98004_0_6</td>\n",
       "      <td>she start wheel I down to surgery and keep ask...</td>\n",
       "      <td>Feeling it?\"</td>\n",
       "      <td>to which I repeatedly tell she no</td>\n",
       "      <td>s_99.trec</td>\n",
       "      <td>feeling it</td>\n",
       "      <td>feel it</td>\n",
       "      <td>[feel, it]</td>\n",
       "      <td>0</td>\n",
       "      <td>2</td>\n",
       "      <td>['feel']</td>\n",
       "      <td>[16, 13]</td>\n",
       "    </tr>\n",
       "    <tr>\n",
       "      <th>3</th>\n",
       "      <td>17</td>\n",
       "      <td>98006_0_22</td>\n",
       "      <td>that be when it will really set in that the wh...</td>\n",
       "      <td>That is when he will realize that he really do...</td>\n",
       "      <td>that he be struggle to even eat 2000 cal in on...</td>\n",
       "      <td>s_99.trec</td>\n",
       "      <td>that is when he will realize that he really do...</td>\n",
       "      <td>that be when he will realize that he really do...</td>\n",
       "      <td>[that, be, when, he, will, realize, that, he, ...</td>\n",
       "      <td>0</td>\n",
       "      <td>15</td>\n",
       "      <td>['realize', 'eat']</td>\n",
       "      <td>[15, 3, 40, 18, 66, 251, 15, 18, 60, 12, 8, 11...</td>\n",
       "    </tr>\n",
       "    <tr>\n",
       "      <th>4</th>\n",
       "      <td>17</td>\n",
       "      <td>98006_0_26</td>\n",
       "      <td>tldr people be skinny because they do not eat ...</td>\n",
       "      <td>If you are skinny it is because you do not eat...</td>\n",
       "      <td>or you have parasite which you do not</td>\n",
       "      <td>s_99.trec</td>\n",
       "      <td>if you are skinny it is because you do not eat...</td>\n",
       "      <td>if you be skinny it be because you do not eat ...</td>\n",
       "      <td>[if, you, be, skinny, it, be, because, you, do...</td>\n",
       "      <td>0</td>\n",
       "      <td>12</td>\n",
       "      <td>['skinny', 'eat']</td>\n",
       "      <td>[57, 29, 3, 4163, 13, 3, 51, 29, 12, 8, 112, 237]</td>\n",
       "    </tr>\n",
       "  </tbody>\n",
       "</table>\n",
       "</div>"
      ],
      "text/plain": [
       "   query       docno                                                pre  \\\n",
       "0     18  98002_0_18  I also would not mind a few people to talk to ...   \n",
       "1     10   98004_0_2  when I be be preppe for surgery the nurse info...   \n",
       "2     16   98004_0_6  she start wheel I down to surgery and keep ask...   \n",
       "3     17  98006_0_22  that be when it will really set in that the wh...   \n",
       "4     17  98006_0_26  tldr people be skinny because they do not eat ...   \n",
       "\n",
       "                                                text  \\\n",
       "0                         Get my mind off of things.   \n",
       "1                             and I became agitated.   \n",
       "2                                       Feeling it?\"   \n",
       "3  That is when he will realize that he really do...   \n",
       "4  If you are skinny it is because you do not eat...   \n",
       "\n",
       "                                                post source_file  \\\n",
       "0                                     thank for read   s_99.trec   \n",
       "1  I know they want a sterilize environment for t...   s_99.trec   \n",
       "2                  to which I repeatedly tell she no   s_99.trec   \n",
       "3  that he be struggle to even eat 2000 cal in on...   s_99.trec   \n",
       "4              or you have parasite which you do not   s_99.trec   \n",
       "\n",
       "                                          text_clean  \\\n",
       "0                          get my mind off of things   \n",
       "1                              and i became agitated   \n",
       "2                                         feeling it   \n",
       "3  that is when he will realize that he really do...   \n",
       "4  if you are skinny it is because you do not eat...   \n",
       "\n",
       "                                          text_lemma  \\\n",
       "0                           get my mind off of thing   \n",
       "1                              and I become agitated   \n",
       "2                                            feel it   \n",
       "3  that be when he will realize that he really do...   \n",
       "4  if you be skinny it be because you do not eat ...   \n",
       "\n",
       "                                               token  label  word_len  \\\n",
       "0                    [get, my, mind, off, of, thing]      0         6   \n",
       "1                         [and, I, become, agitated]      1         4   \n",
       "2                                         [feel, it]      0         2   \n",
       "3  [that, be, when, he, will, realize, that, he, ...      0        15   \n",
       "4  [if, you, be, skinny, it, be, because, you, do...      0        12   \n",
       "\n",
       "        token_no_stop                                          token_idx  \n",
       "0   ['mind', 'thing']                         [23, 10, 250, 119, 11, 54]  \n",
       "1        ['agitated']                                  [4, 2, 194, 1589]  \n",
       "2            ['feel']                                           [16, 13]  \n",
       "3  ['realize', 'eat']  [15, 3, 40, 18, 66, 251, 15, 18, 60, 12, 8, 11...  \n",
       "4   ['skinny', 'eat']  [57, 29, 3, 4163, 13, 3, 51, 29, 12, 8, 112, 237]  "
      ]
     },
     "execution_count": 33,
     "metadata": {},
     "output_type": "execute_result"
    }
   ],
   "source": [
    "df['query'] -= 1\n",
    "df.head()"
   ]
  },
  {
   "cell_type": "code",
   "execution_count": 34,
   "id": "cd2e2e59-5305-488d-b1b7-ab3c5935418c",
   "metadata": {},
   "outputs": [
    {
     "data": {
      "text/plain": [
       "[2, 1, 1, 3, 3, 2, 2, 2, 4, 4, 1, 4, 5, 1, 2, 1, 1, 1, 3, 1]"
      ]
     },
     "execution_count": 34,
     "metadata": {},
     "output_type": "execute_result"
    }
   ],
   "source": [
    "q_length = []\n",
    "for i in df['query']:\n",
    "    q_length.append(queries_length[i])\n",
    "q_length[:20]"
   ]
  },
  {
   "cell_type": "code",
   "execution_count": 35,
   "id": "80ab9392-00f6-470c-8be5-ca9c98e37559",
   "metadata": {},
   "outputs": [
    {
     "data": {
      "text/plain": [
       "14823"
      ]
     },
     "execution_count": 35,
     "metadata": {},
     "output_type": "execute_result"
    }
   ],
   "source": [
    "len(q_length)"
   ]
  },
  {
   "cell_type": "code",
   "execution_count": 36,
   "id": "9da4fe41-b3a8-452e-9470-b98a00e66349",
   "metadata": {},
   "outputs": [
    {
     "data": {
      "text/plain": [
       "[6, 4, 2, 15, 12, 16, 7, 7, 3, 23, 17, 9, 11, 6, 16, 7, 10, 8, 14, 15]"
      ]
     },
     "execution_count": 36,
     "metadata": {},
     "output_type": "execute_result"
    }
   ],
   "source": [
    "d_length = [len(q) for q in df['token']]\n",
    "d_length[:20]"
   ]
  },
  {
   "cell_type": "code",
   "execution_count": 37,
   "id": "b545b2f2-346f-4d80-bca9-47ff0b0fbbf2",
   "metadata": {},
   "outputs": [
    {
     "data": {
      "text/plain": [
       "14823"
      ]
     },
     "execution_count": 37,
     "metadata": {},
     "output_type": "execute_result"
    }
   ],
   "source": [
    "len(d_length)"
   ]
  },
  {
   "cell_type": "code",
   "execution_count": 38,
   "id": "9a9a8af0-6de1-4f65-8414-70640ca7e05e",
   "metadata": {},
   "outputs": [],
   "source": [
    "class TextDataset(torch.utils.data.Dataset):\n",
    "    def __init__(self, docs, labels, queries, d_length, q_length):\n",
    "        assert len(docs) == len(labels) == len(queries) == len(d_length) == len(q_length)\n",
    "        self.docs = docs\n",
    "        self.labels = labels\n",
    "        self.queries = queries\n",
    "        self.d_length = d_length\n",
    "        self.q_length = q_length\n",
    "\n",
    "    def __len__(self):\n",
    "        return len(self.docs)\n",
    "\n",
    "    def __getitem__(self, idx):\n",
    "        return (self.docs[idx],\n",
    "                self.d_length[idx],\n",
    "                self.queries[idx],\n",
    "                self.q_length[idx],\n",
    "                self.labels[idx])\n"
   ]
  },
  {
   "cell_type": "code",
   "execution_count": 39,
   "id": "c7b8a521-9f57-417c-91d3-9f740b822f90",
   "metadata": {},
   "outputs": [],
   "source": [
    "dataset = TextDataset(padded, labels, query_tokens_per_sample, d_length, q_length)\n"
   ]
  },
  {
   "cell_type": "code",
   "execution_count": 40,
   "id": "ad9fc7be-0ee2-4df4-84e5-e9aa4dba592f",
   "metadata": {},
   "outputs": [],
   "source": [
    "from torch.utils.data import random_split, DataLoader\n",
    "\n",
    "n_total = len(dataset)\n",
    "n_train = int(0.8 * n_total)\n",
    "n_val   = int(0.1 * n_total)\n",
    "n_test  = n_total - n_train - n_val\n",
    "\n",
    "train_set, val_set, test_set = random_split(\n",
    "    dataset,\n",
    "    [n_train, n_val, n_test],\n",
    "    generator=torch.Generator().manual_seed(42)  \n",
    ")\n",
    "\n",
    "train_loader = DataLoader(train_set, batch_size=64, shuffle=True, num_workers=0, pin_memory=True)\n",
    "val_loader   = DataLoader(val_set, batch_size=64, shuffle=False, num_workers=0, pin_memory=True)\n",
    "test_loader  = DataLoader(test_set, batch_size=64, shuffle=False, num_workers=0, pin_memory=True)"
   ]
  },
  {
   "cell_type": "code",
   "execution_count": 41,
   "id": "5c37af39-67da-4760-8329-55d4a039aba6",
   "metadata": {},
   "outputs": [],
   "source": [
    "DEVICE = torch.device(\"cuda\" if torch.cuda.is_available() else \"cpu\")\n",
    "\n",
    "model = LSTM_v2(\n",
    "    vocab_size=len(word2idx),\n",
    "    embedding_dim=200,\n",
    "    hidden_size=64,\n",
    "    pad_idx=PAD_IDX,\n",
    "    pdrop=0.3\n",
    ").to(DEVICE)\n",
    "\n",
    "criterion = nn.CrossEntropyLoss()\n",
    "optimizer = torch.optim.Adam(model.parameters(), lr=1e-3)"
   ]
  },
  {
   "cell_type": "code",
   "execution_count": 42,
   "id": "4c6228b1-6b34-45f8-b3d4-763884b9a554",
   "metadata": {},
   "outputs": [],
   "source": [
    "def train_one_epoch(model, loader, criterion, optimizer, device):\n",
    "    model.train()\n",
    "    total_loss, correct, total = 0, 0, 0\n",
    "    \n",
    "    for docs, d_length, queries, q_length, labels in loader:\n",
    "        docs, d_length = docs.to(device), d_length.to(device)\n",
    "        queries, q_length = queries.to(device), q_length.to(device)\n",
    "        labels = labels.to(device)\n",
    "\n",
    "        optimizer.zero_grad()\n",
    "        logits = model(docs, d_length, queries, q_length)\n",
    "        loss = criterion(logits, labels)\n",
    "        loss.backward()\n",
    "        optimizer.step()\n",
    "\n",
    "        total_loss += loss.item() * docs.size(0)\n",
    "        preds = logits.argmax(dim=1)\n",
    "        correct += (preds == labels).sum().item()\n",
    "        total += labels.size(0)\n",
    "    \n",
    "    return total_loss/total, correct/total\n",
    "\n"
   ]
  },
  {
   "cell_type": "code",
   "execution_count": 43,
   "id": "baa8dd9d-3877-4bc2-a970-1206a2ac990a",
   "metadata": {},
   "outputs": [],
   "source": [
    "@torch.no_grad()\n",
    "def evaluate(model, loader, criterion, device):\n",
    "    model.eval()\n",
    "    total_loss, correct, total = 0, 0, 0\n",
    "    \n",
    "    for docs, d_length, queries, q_length, labels in loader:\n",
    "        docs, d_length = docs.to(device), d_length.to(device)\n",
    "        queries, q_length = queries.to(device), q_length.to(device)\n",
    "        labels = labels.to(device)\n",
    "\n",
    "        logits = model(docs, d_length, queries, q_length)\n",
    "        loss = criterion(logits, labels)\n",
    "\n",
    "        total_loss += loss.item() * docs.size(0)\n",
    "        preds = logits.argmax(dim=1)\n",
    "        correct += (preds == labels).sum().item()\n",
    "        total += labels.size(0)\n",
    "    \n",
    "    return total_loss/total, correct/total\n"
   ]
  },
  {
   "cell_type": "code",
   "execution_count": 44,
   "id": "8498b25c-f95b-48f5-9788-fe45384a5294",
   "metadata": {},
   "outputs": [
    {
     "name": "stdout",
     "output_type": "stream",
     "text": [
      "Epoch 1/10 | Train Loss: 0.6246, Acc: 0.6318 | Val Loss: 0.5533, Acc: 0.7038\n",
      "Epoch 2/10 | Train Loss: 0.4975, Acc: 0.7578 | Val Loss: 0.4214, Acc: 0.8131\n",
      "Epoch 3/10 | Train Loss: 0.4109, Acc: 0.8178 | Val Loss: 0.3603, Acc: 0.8543\n",
      "Epoch 4/10 | Train Loss: 0.3451, Acc: 0.8522 | Val Loss: 0.3366, Acc: 0.8610\n",
      "Epoch 5/10 | Train Loss: 0.3040, Acc: 0.8759 | Val Loss: 0.3106, Acc: 0.8738\n",
      "Epoch 6/10 | Train Loss: 0.2730, Acc: 0.8893 | Val Loss: 0.3201, Acc: 0.8765\n",
      "Epoch 7/10 | Train Loss: 0.2491, Acc: 0.8997 | Val Loss: 0.3118, Acc: 0.8752\n",
      "Epoch 8/10 | Train Loss: 0.2385, Acc: 0.9048 | Val Loss: 0.3103, Acc: 0.8779\n",
      "Epoch 9/10 | Train Loss: 0.2226, Acc: 0.9104 | Val Loss: 0.3144, Acc: 0.8819\n",
      "Epoch 10/10 | Train Loss: 0.2087, Acc: 0.9206 | Val Loss: 0.3177, Acc: 0.8853\n"
     ]
    }
   ],
   "source": [
    "EPOCHS = 10\n",
    "for epoch in range(EPOCHS):\n",
    "    train_loss, train_acc = train_one_epoch(model, train_loader, criterion, optimizer, DEVICE)\n",
    "    val_loss, val_acc = evaluate(model, val_loader, criterion, DEVICE)\n",
    "    print(f\"Epoch {epoch+1}/{EPOCHS} | Train Loss: {train_loss:.4f}, Acc: {train_acc:.4f} | Val Loss: {val_loss:.4f}, Acc: {val_acc:.4f}\")\n"
   ]
  },
  {
   "cell_type": "code",
   "execution_count": 45,
   "id": "6c016983-8d7e-4087-948b-df84128dd949",
   "metadata": {},
   "outputs": [
    {
     "name": "stderr",
     "output_type": "stream",
     "text": [
      "C:\\Users\\thaip\\AppData\\Local\\Temp\\ipykernel_18704\\1737158981.py:12: FutureWarning: You are using `torch.load` with `weights_only=False` (the current default value), which uses the default pickle module implicitly. It is possible to construct malicious pickle data which will execute arbitrary code during unpickling (See https://github.com/pytorch/pytorch/blob/main/SECURITY.md#untrusted-models for more details). In a future release, the default value for `weights_only` will be flipped to `True`. This limits the functions that could be executed during unpickling. Arbitrary objects will no longer be allowed to be loaded via this mode unless they are explicitly allowlisted by the user via `torch.serialization.add_safe_globals`. We recommend you start setting `weights_only=True` for any use case where you don't have full control of the loaded file. Please open an issue on GitHub for any issues related to this experimental feature.\n",
      "  model.load_state_dict(torch.load(\"lstm_v2.pt\", map_location=DEVICE))\n"
     ]
    },
    {
     "data": {
      "text/plain": [
       "LSTM_v2(\n",
       "  (embedding): Embedding(6992, 200, padding_idx=0)\n",
       "  (doc_lstm): LSTM(200, 64, batch_first=True)\n",
       "  (query_lstm): LSTM(200, 64, batch_first=True)\n",
       "  (attention): Linear(in_features=64, out_features=64, bias=False)\n",
       "  (dropout): Dropout(p=0.3, inplace=False)\n",
       "  (fc): Linear(in_features=128, out_features=2, bias=True)\n",
       ")"
      ]
     },
     "execution_count": 45,
     "metadata": {},
     "output_type": "execute_result"
    }
   ],
   "source": [
    "torch.save(model.state_dict(), \"lstm_v2.pt\")\n",
    "\n",
    "\n",
    "model = LSTM_v2(\n",
    "    vocab_size=len(word2idx),\n",
    "    embedding_dim=200,\n",
    "    hidden_size=64,\n",
    "    pad_idx=PAD_IDX,\n",
    "    pdrop=0.3\n",
    ").to(DEVICE)\n",
    "\n",
    "model.load_state_dict(torch.load(\"lstm_v2.pt\", map_location=DEVICE))\n",
    "model.eval()   \n"
   ]
  },
  {
   "cell_type": "code",
   "execution_count": 46,
   "id": "00b3794c-62df-4cd3-9fb4-1d5c4c2bd57f",
   "metadata": {},
   "outputs": [
    {
     "name": "stdout",
     "output_type": "stream",
     "text": [
      "0.3423712743409807\n",
      "0.8732299393122049\n"
     ]
    }
   ],
   "source": [
    "test_loss, test_acc = evaluate(model, test_loader, criterion, DEVICE)\n",
    "print(test_loss)\n",
    "print(test_acc)"
   ]
  },
  {
   "cell_type": "code",
   "execution_count": null,
   "id": "785702b5-b1fe-48b6-a3d2-ce2a601728c4",
   "metadata": {},
   "outputs": [],
   "source": []
  }
 ],
 "metadata": {
  "kernelspec": {
   "display_name": "Python 3 (ipykernel)",
   "language": "python",
   "name": "python3"
  },
  "language_info": {
   "codemirror_mode": {
    "name": "ipython",
    "version": 3
   },
   "file_extension": ".py",
   "mimetype": "text/x-python",
   "name": "python",
   "nbconvert_exporter": "python",
   "pygments_lexer": "ipython3",
   "version": "3.11.0"
  }
 },
 "nbformat": 4,
 "nbformat_minor": 5
}
